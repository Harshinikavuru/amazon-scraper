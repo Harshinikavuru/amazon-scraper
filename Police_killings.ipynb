{
  "cells": [
    {
      "cell_type": "markdown",
      "metadata": {
        "id": "view-in-github",
        "colab_type": "text"
      },
      "source": [
        "<a href=\"https://colab.research.google.com/github/Harshinikavuru/amazon-scraper/blob/master/Police_killings.ipynb\" target=\"_parent\"><img src=\"https://colab.research.google.com/assets/colab-badge.svg\" alt=\"Open In Colab\"/></a>"
      ]
    },
    {
      "cell_type": "markdown",
      "source": [
        "Lets start by importing all the libraries required to complete the assignment."
      ],
      "metadata": {
        "id": "fL7KjnCFOeMv"
      }
    },
    {
      "cell_type": "code",
      "execution_count": null,
      "metadata": {
        "id": "mv8tighdglI0"
      },
      "outputs": [],
      "source": [
        "import pandas as pd\n",
        "import matplotlib.pyplot as plt"
      ]
    },
    {
      "cell_type": "markdown",
      "source": [
        "Imporing the \"police_killings.csv\" file as dataframe using pandas library"
      ],
      "metadata": {
        "id": "_NTkOagPOoi-"
      }
    },
    {
      "cell_type": "code",
      "execution_count": null,
      "metadata": {
        "colab": {
          "base_uri": "https://localhost:8080/"
        },
        "id": "HgsUnygLj5dO",
        "outputId": "0cdfd00e-0b44-4a9d-8b44-df42a6ffc298"
      },
      "outputs": [
        {
          "output_type": "stream",
          "name": "stderr",
          "text": [
            "<ipython-input-2-807ad0763395>:1: DtypeWarning: Columns (67) have mixed types. Specify dtype option on import or set low_memory=False.\n",
            "  data = pd.read_csv ('/content/police_killings.csv')\n"
          ]
        }
      ],
      "source": [
        "data = pd.read_csv ('/content/police_killings.csv')"
      ]
    },
    {
      "cell_type": "markdown",
      "source": [
        "Let us look at how the data looks like."
      ],
      "metadata": {
        "id": "31qwgga4Oxw1"
      }
    },
    {
      "cell_type": "code",
      "execution_count": null,
      "metadata": {
        "colab": {
          "base_uri": "https://localhost:8080/",
          "height": 1000
        },
        "id": "EKsVK6ShkMJn",
        "outputId": "15641149-6665-4cc0-ea84-79935f2556bd"
      },
      "outputs": [
        {
          "output_type": "execute_result",
          "data": {
            "text/plain": [
              "                                                name   age       gender  \\\n",
              "0                                      Joseph Fuller  24.0         Male   \n",
              "1                                     Shane K. Jones  38.0         Male   \n",
              "2                              John Ethan Carpentier  26.0         Male   \n",
              "3                                    Mickee McArthur  28.0         Male   \n",
              "4                                          Mark Bess  33.0         Male   \n",
              "5                            Jermaine C. Coleman Jr.  20.0         Male   \n",
              "6                                      Charles Burns  21.0         Male   \n",
              "7                                       David Carver  34.0         Male   \n",
              "8                                      David D. Long  42.0         Male   \n",
              "9                                 Jonathan Jefferson   NaN         Male   \n",
              "10                               Antone G. Black Jr.  19.0         Male   \n",
              "11                                    Daryl Jay Carr  45.0         Male   \n",
              "12                        Benston Calvin Clinkscales  26.0         Male   \n",
              "13                                 Andrew Jared Lane  47.0         Male   \n",
              "14  Kayden Clarke transitioning from Danielle Jacobs  24.0  Transgender   \n",
              "15                                     Elijah Richie  18.0         Male   \n",
              "16                                 Michelle Cusseaux  50.0       Female   \n",
              "17                                       Mathew Cook  32.0         Male   \n",
              "18                                 Chad Lee Hanchett  36.0         Male   \n",
              "19                                      Haven Bailey  25.0  Transgender   \n",
              "\n",
              "     race        date                       street_address          city  \\\n",
              "0   White  2015-07-21                      1300 NE 50th Ct  Oakland Park   \n",
              "1   Black  2020-11-16                      161 SW 19th Ct.   Dania Beach   \n",
              "2   White  2016-09-27                     20838 N 19th Ave      Phoenix    \n",
              "3   Black  2020-11-30         N. 9th Ave. and Langley Ave.    Ferry Pass   \n",
              "4   White  2016-04-30                        4500 S 3200 W  Spanish Fork   \n",
              "5   Black  2013-04-04                  8980 Kingsridge Dr.        Dayton   \n",
              "6   White  2013-05-10   Barcelona Circle and Buchanan Road       Antioch   \n",
              "7   White  2016-12-27                       3001 W Hwy 146     La Grange   \n",
              "8   Black  2013-10-20                   210 Rayburn Street   Coffeeville   \n",
              "9   Black  2020-08-08   Plaza Circle and Preston Boulevard  Bossier City   \n",
              "10  Black  2018-09-15               13000 Greensboro Drive    Greensboro   \n",
              "11  White  2021-08-21                      186 Maggie Lane   Allenhurst    \n",
              "12  Black  2016-05-01                       902 Pickens St      Anderson   \n",
              "13  White  2017-03-20                    8838 Las Tunas Dr   Temple City   \n",
              "14  White  2016-02-04             E Brown Rd and N 80th St          Mesa   \n",
              "15  White  2021-11-26         Edith Blvd NE and Montano Rd  North Valley   \n",
              "16  Black  2014-08-14             3810 N. Maryvale Parkway      Phoenix    \n",
              "17  White  2022-02-16  1000 block of West Gladstone Street         Azusa   \n",
              "18  White  2013-04-25          7900 Garden Grove Boulevard  Garden Grove   \n",
              "19  White  2021-05-24             200 East Kenilworth Ave.    Villa Park   \n",
              "\n",
              "   state       zip        county  ... prosecutor_gender prosecutor_special  \\\n",
              "0     FL   33334.0       Broward  ...               NaN                NaN   \n",
              "1     FL  330004.0       Broward  ...               NaN                NaN   \n",
              "2     AZ   85027.0      Maricopa  ...               NaN                NaN   \n",
              "3     FL   32504.0      Escambia  ...               NaN                NaN   \n",
              "4     UT   84660.0          Utah  ...               NaN                NaN   \n",
              "5     OH   45458.0    Montgomery  ...               NaN                NaN   \n",
              "6     CA   94509.0  Contra Costa  ...               NaN                NaN   \n",
              "7     KY   40032.0        Oldham  ...               NaN                NaN   \n",
              "8     MS   38922.0     Yalobusha  ...               NaN                NaN   \n",
              "9     LA   71111.0       Bossier  ...               NaN                NaN   \n",
              "10    MD   21639.0      Caroline  ...               NaN                NaN   \n",
              "11    GA   31301.0       Liberty  ...               NaN                NaN   \n",
              "12    SC   29621.0      Anderson  ...               NaN                NaN   \n",
              "13    CA   91780.0   Los Angeles  ...               NaN                NaN   \n",
              "14    AZ   85207.0      Maricopa  ...               NaN                NaN   \n",
              "15    NM   87107.0    Bernalillo  ...               NaN                NaN   \n",
              "16    AZ   85031.0      Maricopa  ...               NaN                NaN   \n",
              "17    CA   91702.0   Los Angeles  ...               NaN                NaN   \n",
              "18    CA   92841.0        Orange  ...               NaN                NaN   \n",
              "19    IL   60181.0        DuPage  ...               NaN                NaN   \n",
              "\n",
              "   prosecutor_url prosecutor_in_court possible_suicide alert_ids  \\\n",
              "0             NaN                 NaN              NaN       NaN   \n",
              "1             NaN                 NaN              NaN       NaN   \n",
              "2             NaN                 NaN              NaN       NaN   \n",
              "3             NaN                 NaN              NaN       NaN   \n",
              "4             NaN                 NaN              NaN       NaN   \n",
              "5             NaN                 NaN              NaN       NaN   \n",
              "6             NaN                 NaN              NaN       NaN   \n",
              "7             NaN                 NaN              NaN       NaN   \n",
              "8             NaN                 NaN              NaN       NaN   \n",
              "9             NaN                 NaN              NaN       NaN   \n",
              "10            NaN                 NaN              NaN       NaN   \n",
              "11            NaN                 NaN              NaN       NaN   \n",
              "12            NaN                 NaN              NaN       NaN   \n",
              "13            NaN                 NaN              NaN       NaN   \n",
              "14            NaN                 NaN              NaN       NaN   \n",
              "15            NaN                 NaN              NaN       NaN   \n",
              "16            NaN                 NaN              NaN       NaN   \n",
              "17            NaN                 NaN              NaN       NaN   \n",
              "18            NaN                 NaN              NaN       NaN   \n",
              "19            NaN                 NaN              NaN       NaN   \n",
              "\n",
              "   prosecutor_party prosecutor_term independent_investigation  \\\n",
              "0               NaN             NaN                       NaN   \n",
              "1               NaN             NaN                       NaN   \n",
              "2               NaN             NaN                       NaN   \n",
              "3               NaN             NaN                       NaN   \n",
              "4               NaN             NaN                       NaN   \n",
              "5               NaN             NaN                       NaN   \n",
              "6               NaN             NaN                       NaN   \n",
              "7               NaN             NaN                       NaN   \n",
              "8               NaN             NaN                       NaN   \n",
              "9               NaN             NaN                       NaN   \n",
              "10              NaN             NaN                       NaN   \n",
              "11              NaN             NaN                       NaN   \n",
              "12              NaN             NaN                       NaN   \n",
              "13              NaN             NaN                       NaN   \n",
              "14              NaN             NaN                       NaN   \n",
              "15              NaN             NaN                       NaN   \n",
              "16              NaN             NaN                       NaN   \n",
              "17              NaN             NaN                       NaN   \n",
              "18              NaN             NaN                       NaN   \n",
              "19              NaN             NaN                       NaN   \n",
              "\n",
              "   officer_race_inferred  \n",
              "0                    NaN  \n",
              "1                    NaN  \n",
              "2                    NaN  \n",
              "3                    NaN  \n",
              "4                    NaN  \n",
              "5                    NaN  \n",
              "6                    NaN  \n",
              "7                    NaN  \n",
              "8                    NaN  \n",
              "9                    NaN  \n",
              "10                   NaN  \n",
              "11                   NaN  \n",
              "12                   NaN  \n",
              "13                   NaN  \n",
              "14                   NaN  \n",
              "15                   NaN  \n",
              "16                   NaN  \n",
              "17                   NaN  \n",
              "18                   NaN  \n",
              "19                   NaN  \n",
              "\n",
              "[20 rows x 68 columns]"
            ],
            "text/html": [
              "\n",
              "  <div id=\"df-66e861ce-703e-45b4-b9bb-5019d24bec06\">\n",
              "    <div class=\"colab-df-container\">\n",
              "      <div>\n",
              "<style scoped>\n",
              "    .dataframe tbody tr th:only-of-type {\n",
              "        vertical-align: middle;\n",
              "    }\n",
              "\n",
              "    .dataframe tbody tr th {\n",
              "        vertical-align: top;\n",
              "    }\n",
              "\n",
              "    .dataframe thead th {\n",
              "        text-align: right;\n",
              "    }\n",
              "</style>\n",
              "<table border=\"1\" class=\"dataframe\">\n",
              "  <thead>\n",
              "    <tr style=\"text-align: right;\">\n",
              "      <th></th>\n",
              "      <th>name</th>\n",
              "      <th>age</th>\n",
              "      <th>gender</th>\n",
              "      <th>race</th>\n",
              "      <th>date</th>\n",
              "      <th>street_address</th>\n",
              "      <th>city</th>\n",
              "      <th>state</th>\n",
              "      <th>zip</th>\n",
              "      <th>county</th>\n",
              "      <th>...</th>\n",
              "      <th>prosecutor_gender</th>\n",
              "      <th>prosecutor_special</th>\n",
              "      <th>prosecutor_url</th>\n",
              "      <th>prosecutor_in_court</th>\n",
              "      <th>possible_suicide</th>\n",
              "      <th>alert_ids</th>\n",
              "      <th>prosecutor_party</th>\n",
              "      <th>prosecutor_term</th>\n",
              "      <th>independent_investigation</th>\n",
              "      <th>officer_race_inferred</th>\n",
              "    </tr>\n",
              "  </thead>\n",
              "  <tbody>\n",
              "    <tr>\n",
              "      <th>0</th>\n",
              "      <td>Joseph Fuller</td>\n",
              "      <td>24.0</td>\n",
              "      <td>Male</td>\n",
              "      <td>White</td>\n",
              "      <td>2015-07-21</td>\n",
              "      <td>1300 NE 50th Ct</td>\n",
              "      <td>Oakland Park</td>\n",
              "      <td>FL</td>\n",
              "      <td>33334.0</td>\n",
              "      <td>Broward</td>\n",
              "      <td>...</td>\n",
              "      <td>NaN</td>\n",
              "      <td>NaN</td>\n",
              "      <td>NaN</td>\n",
              "      <td>NaN</td>\n",
              "      <td>NaN</td>\n",
              "      <td>NaN</td>\n",
              "      <td>NaN</td>\n",
              "      <td>NaN</td>\n",
              "      <td>NaN</td>\n",
              "      <td>NaN</td>\n",
              "    </tr>\n",
              "    <tr>\n",
              "      <th>1</th>\n",
              "      <td>Shane K. Jones</td>\n",
              "      <td>38.0</td>\n",
              "      <td>Male</td>\n",
              "      <td>Black</td>\n",
              "      <td>2020-11-16</td>\n",
              "      <td>161 SW 19th Ct.</td>\n",
              "      <td>Dania Beach</td>\n",
              "      <td>FL</td>\n",
              "      <td>330004.0</td>\n",
              "      <td>Broward</td>\n",
              "      <td>...</td>\n",
              "      <td>NaN</td>\n",
              "      <td>NaN</td>\n",
              "      <td>NaN</td>\n",
              "      <td>NaN</td>\n",
              "      <td>NaN</td>\n",
              "      <td>NaN</td>\n",
              "      <td>NaN</td>\n",
              "      <td>NaN</td>\n",
              "      <td>NaN</td>\n",
              "      <td>NaN</td>\n",
              "    </tr>\n",
              "    <tr>\n",
              "      <th>2</th>\n",
              "      <td>John Ethan Carpentier</td>\n",
              "      <td>26.0</td>\n",
              "      <td>Male</td>\n",
              "      <td>White</td>\n",
              "      <td>2016-09-27</td>\n",
              "      <td>20838 N 19th Ave</td>\n",
              "      <td>Phoenix</td>\n",
              "      <td>AZ</td>\n",
              "      <td>85027.0</td>\n",
              "      <td>Maricopa</td>\n",
              "      <td>...</td>\n",
              "      <td>NaN</td>\n",
              "      <td>NaN</td>\n",
              "      <td>NaN</td>\n",
              "      <td>NaN</td>\n",
              "      <td>NaN</td>\n",
              "      <td>NaN</td>\n",
              "      <td>NaN</td>\n",
              "      <td>NaN</td>\n",
              "      <td>NaN</td>\n",
              "      <td>NaN</td>\n",
              "    </tr>\n",
              "    <tr>\n",
              "      <th>3</th>\n",
              "      <td>Mickee McArthur</td>\n",
              "      <td>28.0</td>\n",
              "      <td>Male</td>\n",
              "      <td>Black</td>\n",
              "      <td>2020-11-30</td>\n",
              "      <td>N. 9th Ave. and Langley Ave.</td>\n",
              "      <td>Ferry Pass</td>\n",
              "      <td>FL</td>\n",
              "      <td>32504.0</td>\n",
              "      <td>Escambia</td>\n",
              "      <td>...</td>\n",
              "      <td>NaN</td>\n",
              "      <td>NaN</td>\n",
              "      <td>NaN</td>\n",
              "      <td>NaN</td>\n",
              "      <td>NaN</td>\n",
              "      <td>NaN</td>\n",
              "      <td>NaN</td>\n",
              "      <td>NaN</td>\n",
              "      <td>NaN</td>\n",
              "      <td>NaN</td>\n",
              "    </tr>\n",
              "    <tr>\n",
              "      <th>4</th>\n",
              "      <td>Mark Bess</td>\n",
              "      <td>33.0</td>\n",
              "      <td>Male</td>\n",
              "      <td>White</td>\n",
              "      <td>2016-04-30</td>\n",
              "      <td>4500 S 3200 W</td>\n",
              "      <td>Spanish Fork</td>\n",
              "      <td>UT</td>\n",
              "      <td>84660.0</td>\n",
              "      <td>Utah</td>\n",
              "      <td>...</td>\n",
              "      <td>NaN</td>\n",
              "      <td>NaN</td>\n",
              "      <td>NaN</td>\n",
              "      <td>NaN</td>\n",
              "      <td>NaN</td>\n",
              "      <td>NaN</td>\n",
              "      <td>NaN</td>\n",
              "      <td>NaN</td>\n",
              "      <td>NaN</td>\n",
              "      <td>NaN</td>\n",
              "    </tr>\n",
              "    <tr>\n",
              "      <th>5</th>\n",
              "      <td>Jermaine C. Coleman Jr.</td>\n",
              "      <td>20.0</td>\n",
              "      <td>Male</td>\n",
              "      <td>Black</td>\n",
              "      <td>2013-04-04</td>\n",
              "      <td>8980 Kingsridge Dr.</td>\n",
              "      <td>Dayton</td>\n",
              "      <td>OH</td>\n",
              "      <td>45458.0</td>\n",
              "      <td>Montgomery</td>\n",
              "      <td>...</td>\n",
              "      <td>NaN</td>\n",
              "      <td>NaN</td>\n",
              "      <td>NaN</td>\n",
              "      <td>NaN</td>\n",
              "      <td>NaN</td>\n",
              "      <td>NaN</td>\n",
              "      <td>NaN</td>\n",
              "      <td>NaN</td>\n",
              "      <td>NaN</td>\n",
              "      <td>NaN</td>\n",
              "    </tr>\n",
              "    <tr>\n",
              "      <th>6</th>\n",
              "      <td>Charles Burns</td>\n",
              "      <td>21.0</td>\n",
              "      <td>Male</td>\n",
              "      <td>White</td>\n",
              "      <td>2013-05-10</td>\n",
              "      <td>Barcelona Circle and Buchanan Road</td>\n",
              "      <td>Antioch</td>\n",
              "      <td>CA</td>\n",
              "      <td>94509.0</td>\n",
              "      <td>Contra Costa</td>\n",
              "      <td>...</td>\n",
              "      <td>NaN</td>\n",
              "      <td>NaN</td>\n",
              "      <td>NaN</td>\n",
              "      <td>NaN</td>\n",
              "      <td>NaN</td>\n",
              "      <td>NaN</td>\n",
              "      <td>NaN</td>\n",
              "      <td>NaN</td>\n",
              "      <td>NaN</td>\n",
              "      <td>NaN</td>\n",
              "    </tr>\n",
              "    <tr>\n",
              "      <th>7</th>\n",
              "      <td>David Carver</td>\n",
              "      <td>34.0</td>\n",
              "      <td>Male</td>\n",
              "      <td>White</td>\n",
              "      <td>2016-12-27</td>\n",
              "      <td>3001 W Hwy 146</td>\n",
              "      <td>La Grange</td>\n",
              "      <td>KY</td>\n",
              "      <td>40032.0</td>\n",
              "      <td>Oldham</td>\n",
              "      <td>...</td>\n",
              "      <td>NaN</td>\n",
              "      <td>NaN</td>\n",
              "      <td>NaN</td>\n",
              "      <td>NaN</td>\n",
              "      <td>NaN</td>\n",
              "      <td>NaN</td>\n",
              "      <td>NaN</td>\n",
              "      <td>NaN</td>\n",
              "      <td>NaN</td>\n",
              "      <td>NaN</td>\n",
              "    </tr>\n",
              "    <tr>\n",
              "      <th>8</th>\n",
              "      <td>David D. Long</td>\n",
              "      <td>42.0</td>\n",
              "      <td>Male</td>\n",
              "      <td>Black</td>\n",
              "      <td>2013-10-20</td>\n",
              "      <td>210 Rayburn Street</td>\n",
              "      <td>Coffeeville</td>\n",
              "      <td>MS</td>\n",
              "      <td>38922.0</td>\n",
              "      <td>Yalobusha</td>\n",
              "      <td>...</td>\n",
              "      <td>NaN</td>\n",
              "      <td>NaN</td>\n",
              "      <td>NaN</td>\n",
              "      <td>NaN</td>\n",
              "      <td>NaN</td>\n",
              "      <td>NaN</td>\n",
              "      <td>NaN</td>\n",
              "      <td>NaN</td>\n",
              "      <td>NaN</td>\n",
              "      <td>NaN</td>\n",
              "    </tr>\n",
              "    <tr>\n",
              "      <th>9</th>\n",
              "      <td>Jonathan Jefferson</td>\n",
              "      <td>NaN</td>\n",
              "      <td>Male</td>\n",
              "      <td>Black</td>\n",
              "      <td>2020-08-08</td>\n",
              "      <td>Plaza Circle and Preston Boulevard</td>\n",
              "      <td>Bossier City</td>\n",
              "      <td>LA</td>\n",
              "      <td>71111.0</td>\n",
              "      <td>Bossier</td>\n",
              "      <td>...</td>\n",
              "      <td>NaN</td>\n",
              "      <td>NaN</td>\n",
              "      <td>NaN</td>\n",
              "      <td>NaN</td>\n",
              "      <td>NaN</td>\n",
              "      <td>NaN</td>\n",
              "      <td>NaN</td>\n",
              "      <td>NaN</td>\n",
              "      <td>NaN</td>\n",
              "      <td>NaN</td>\n",
              "    </tr>\n",
              "    <tr>\n",
              "      <th>10</th>\n",
              "      <td>Antone G. Black Jr.</td>\n",
              "      <td>19.0</td>\n",
              "      <td>Male</td>\n",
              "      <td>Black</td>\n",
              "      <td>2018-09-15</td>\n",
              "      <td>13000 Greensboro Drive</td>\n",
              "      <td>Greensboro</td>\n",
              "      <td>MD</td>\n",
              "      <td>21639.0</td>\n",
              "      <td>Caroline</td>\n",
              "      <td>...</td>\n",
              "      <td>NaN</td>\n",
              "      <td>NaN</td>\n",
              "      <td>NaN</td>\n",
              "      <td>NaN</td>\n",
              "      <td>NaN</td>\n",
              "      <td>NaN</td>\n",
              "      <td>NaN</td>\n",
              "      <td>NaN</td>\n",
              "      <td>NaN</td>\n",
              "      <td>NaN</td>\n",
              "    </tr>\n",
              "    <tr>\n",
              "      <th>11</th>\n",
              "      <td>Daryl Jay Carr</td>\n",
              "      <td>45.0</td>\n",
              "      <td>Male</td>\n",
              "      <td>White</td>\n",
              "      <td>2021-08-21</td>\n",
              "      <td>186 Maggie Lane</td>\n",
              "      <td>Allenhurst</td>\n",
              "      <td>GA</td>\n",
              "      <td>31301.0</td>\n",
              "      <td>Liberty</td>\n",
              "      <td>...</td>\n",
              "      <td>NaN</td>\n",
              "      <td>NaN</td>\n",
              "      <td>NaN</td>\n",
              "      <td>NaN</td>\n",
              "      <td>NaN</td>\n",
              "      <td>NaN</td>\n",
              "      <td>NaN</td>\n",
              "      <td>NaN</td>\n",
              "      <td>NaN</td>\n",
              "      <td>NaN</td>\n",
              "    </tr>\n",
              "    <tr>\n",
              "      <th>12</th>\n",
              "      <td>Benston Calvin Clinkscales</td>\n",
              "      <td>26.0</td>\n",
              "      <td>Male</td>\n",
              "      <td>Black</td>\n",
              "      <td>2016-05-01</td>\n",
              "      <td>902 Pickens St</td>\n",
              "      <td>Anderson</td>\n",
              "      <td>SC</td>\n",
              "      <td>29621.0</td>\n",
              "      <td>Anderson</td>\n",
              "      <td>...</td>\n",
              "      <td>NaN</td>\n",
              "      <td>NaN</td>\n",
              "      <td>NaN</td>\n",
              "      <td>NaN</td>\n",
              "      <td>NaN</td>\n",
              "      <td>NaN</td>\n",
              "      <td>NaN</td>\n",
              "      <td>NaN</td>\n",
              "      <td>NaN</td>\n",
              "      <td>NaN</td>\n",
              "    </tr>\n",
              "    <tr>\n",
              "      <th>13</th>\n",
              "      <td>Andrew Jared Lane</td>\n",
              "      <td>47.0</td>\n",
              "      <td>Male</td>\n",
              "      <td>White</td>\n",
              "      <td>2017-03-20</td>\n",
              "      <td>8838 Las Tunas Dr</td>\n",
              "      <td>Temple City</td>\n",
              "      <td>CA</td>\n",
              "      <td>91780.0</td>\n",
              "      <td>Los Angeles</td>\n",
              "      <td>...</td>\n",
              "      <td>NaN</td>\n",
              "      <td>NaN</td>\n",
              "      <td>NaN</td>\n",
              "      <td>NaN</td>\n",
              "      <td>NaN</td>\n",
              "      <td>NaN</td>\n",
              "      <td>NaN</td>\n",
              "      <td>NaN</td>\n",
              "      <td>NaN</td>\n",
              "      <td>NaN</td>\n",
              "    </tr>\n",
              "    <tr>\n",
              "      <th>14</th>\n",
              "      <td>Kayden Clarke transitioning from Danielle Jacobs</td>\n",
              "      <td>24.0</td>\n",
              "      <td>Transgender</td>\n",
              "      <td>White</td>\n",
              "      <td>2016-02-04</td>\n",
              "      <td>E Brown Rd and N 80th St</td>\n",
              "      <td>Mesa</td>\n",
              "      <td>AZ</td>\n",
              "      <td>85207.0</td>\n",
              "      <td>Maricopa</td>\n",
              "      <td>...</td>\n",
              "      <td>NaN</td>\n",
              "      <td>NaN</td>\n",
              "      <td>NaN</td>\n",
              "      <td>NaN</td>\n",
              "      <td>NaN</td>\n",
              "      <td>NaN</td>\n",
              "      <td>NaN</td>\n",
              "      <td>NaN</td>\n",
              "      <td>NaN</td>\n",
              "      <td>NaN</td>\n",
              "    </tr>\n",
              "    <tr>\n",
              "      <th>15</th>\n",
              "      <td>Elijah Richie</td>\n",
              "      <td>18.0</td>\n",
              "      <td>Male</td>\n",
              "      <td>White</td>\n",
              "      <td>2021-11-26</td>\n",
              "      <td>Edith Blvd NE and Montano Rd</td>\n",
              "      <td>North Valley</td>\n",
              "      <td>NM</td>\n",
              "      <td>87107.0</td>\n",
              "      <td>Bernalillo</td>\n",
              "      <td>...</td>\n",
              "      <td>NaN</td>\n",
              "      <td>NaN</td>\n",
              "      <td>NaN</td>\n",
              "      <td>NaN</td>\n",
              "      <td>NaN</td>\n",
              "      <td>NaN</td>\n",
              "      <td>NaN</td>\n",
              "      <td>NaN</td>\n",
              "      <td>NaN</td>\n",
              "      <td>NaN</td>\n",
              "    </tr>\n",
              "    <tr>\n",
              "      <th>16</th>\n",
              "      <td>Michelle Cusseaux</td>\n",
              "      <td>50.0</td>\n",
              "      <td>Female</td>\n",
              "      <td>Black</td>\n",
              "      <td>2014-08-14</td>\n",
              "      <td>3810 N. Maryvale Parkway</td>\n",
              "      <td>Phoenix</td>\n",
              "      <td>AZ</td>\n",
              "      <td>85031.0</td>\n",
              "      <td>Maricopa</td>\n",
              "      <td>...</td>\n",
              "      <td>NaN</td>\n",
              "      <td>NaN</td>\n",
              "      <td>NaN</td>\n",
              "      <td>NaN</td>\n",
              "      <td>NaN</td>\n",
              "      <td>NaN</td>\n",
              "      <td>NaN</td>\n",
              "      <td>NaN</td>\n",
              "      <td>NaN</td>\n",
              "      <td>NaN</td>\n",
              "    </tr>\n",
              "    <tr>\n",
              "      <th>17</th>\n",
              "      <td>Mathew Cook</td>\n",
              "      <td>32.0</td>\n",
              "      <td>Male</td>\n",
              "      <td>White</td>\n",
              "      <td>2022-02-16</td>\n",
              "      <td>1000 block of West Gladstone Street</td>\n",
              "      <td>Azusa</td>\n",
              "      <td>CA</td>\n",
              "      <td>91702.0</td>\n",
              "      <td>Los Angeles</td>\n",
              "      <td>...</td>\n",
              "      <td>NaN</td>\n",
              "      <td>NaN</td>\n",
              "      <td>NaN</td>\n",
              "      <td>NaN</td>\n",
              "      <td>NaN</td>\n",
              "      <td>NaN</td>\n",
              "      <td>NaN</td>\n",
              "      <td>NaN</td>\n",
              "      <td>NaN</td>\n",
              "      <td>NaN</td>\n",
              "    </tr>\n",
              "    <tr>\n",
              "      <th>18</th>\n",
              "      <td>Chad Lee Hanchett</td>\n",
              "      <td>36.0</td>\n",
              "      <td>Male</td>\n",
              "      <td>White</td>\n",
              "      <td>2013-04-25</td>\n",
              "      <td>7900 Garden Grove Boulevard</td>\n",
              "      <td>Garden Grove</td>\n",
              "      <td>CA</td>\n",
              "      <td>92841.0</td>\n",
              "      <td>Orange</td>\n",
              "      <td>...</td>\n",
              "      <td>NaN</td>\n",
              "      <td>NaN</td>\n",
              "      <td>NaN</td>\n",
              "      <td>NaN</td>\n",
              "      <td>NaN</td>\n",
              "      <td>NaN</td>\n",
              "      <td>NaN</td>\n",
              "      <td>NaN</td>\n",
              "      <td>NaN</td>\n",
              "      <td>NaN</td>\n",
              "    </tr>\n",
              "    <tr>\n",
              "      <th>19</th>\n",
              "      <td>Haven Bailey</td>\n",
              "      <td>25.0</td>\n",
              "      <td>Transgender</td>\n",
              "      <td>White</td>\n",
              "      <td>2021-05-24</td>\n",
              "      <td>200 East Kenilworth Ave.</td>\n",
              "      <td>Villa Park</td>\n",
              "      <td>IL</td>\n",
              "      <td>60181.0</td>\n",
              "      <td>DuPage</td>\n",
              "      <td>...</td>\n",
              "      <td>NaN</td>\n",
              "      <td>NaN</td>\n",
              "      <td>NaN</td>\n",
              "      <td>NaN</td>\n",
              "      <td>NaN</td>\n",
              "      <td>NaN</td>\n",
              "      <td>NaN</td>\n",
              "      <td>NaN</td>\n",
              "      <td>NaN</td>\n",
              "      <td>NaN</td>\n",
              "    </tr>\n",
              "  </tbody>\n",
              "</table>\n",
              "<p>20 rows × 68 columns</p>\n",
              "</div>\n",
              "      <button class=\"colab-df-convert\" onclick=\"convertToInteractive('df-66e861ce-703e-45b4-b9bb-5019d24bec06')\"\n",
              "              title=\"Convert this dataframe to an interactive table.\"\n",
              "              style=\"display:none;\">\n",
              "        \n",
              "  <svg xmlns=\"http://www.w3.org/2000/svg\" height=\"24px\"viewBox=\"0 0 24 24\"\n",
              "       width=\"24px\">\n",
              "    <path d=\"M0 0h24v24H0V0z\" fill=\"none\"/>\n",
              "    <path d=\"M18.56 5.44l.94 2.06.94-2.06 2.06-.94-2.06-.94-.94-2.06-.94 2.06-2.06.94zm-11 1L8.5 8.5l.94-2.06 2.06-.94-2.06-.94L8.5 2.5l-.94 2.06-2.06.94zm10 10l.94 2.06.94-2.06 2.06-.94-2.06-.94-.94-2.06-.94 2.06-2.06.94z\"/><path d=\"M17.41 7.96l-1.37-1.37c-.4-.4-.92-.59-1.43-.59-.52 0-1.04.2-1.43.59L10.3 9.45l-7.72 7.72c-.78.78-.78 2.05 0 2.83L4 21.41c.39.39.9.59 1.41.59.51 0 1.02-.2 1.41-.59l7.78-7.78 2.81-2.81c.8-.78.8-2.07 0-2.86zM5.41 20L4 18.59l7.72-7.72 1.47 1.35L5.41 20z\"/>\n",
              "  </svg>\n",
              "      </button>\n",
              "      \n",
              "  <style>\n",
              "    .colab-df-container {\n",
              "      display:flex;\n",
              "      flex-wrap:wrap;\n",
              "      gap: 12px;\n",
              "    }\n",
              "\n",
              "    .colab-df-convert {\n",
              "      background-color: #E8F0FE;\n",
              "      border: none;\n",
              "      border-radius: 50%;\n",
              "      cursor: pointer;\n",
              "      display: none;\n",
              "      fill: #1967D2;\n",
              "      height: 32px;\n",
              "      padding: 0 0 0 0;\n",
              "      width: 32px;\n",
              "    }\n",
              "\n",
              "    .colab-df-convert:hover {\n",
              "      background-color: #E2EBFA;\n",
              "      box-shadow: 0px 1px 2px rgba(60, 64, 67, 0.3), 0px 1px 3px 1px rgba(60, 64, 67, 0.15);\n",
              "      fill: #174EA6;\n",
              "    }\n",
              "\n",
              "    [theme=dark] .colab-df-convert {\n",
              "      background-color: #3B4455;\n",
              "      fill: #D2E3FC;\n",
              "    }\n",
              "\n",
              "    [theme=dark] .colab-df-convert:hover {\n",
              "      background-color: #434B5C;\n",
              "      box-shadow: 0px 1px 3px 1px rgba(0, 0, 0, 0.15);\n",
              "      filter: drop-shadow(0px 1px 2px rgba(0, 0, 0, 0.3));\n",
              "      fill: #FFFFFF;\n",
              "    }\n",
              "  </style>\n",
              "\n",
              "      <script>\n",
              "        const buttonEl =\n",
              "          document.querySelector('#df-66e861ce-703e-45b4-b9bb-5019d24bec06 button.colab-df-convert');\n",
              "        buttonEl.style.display =\n",
              "          google.colab.kernel.accessAllowed ? 'block' : 'none';\n",
              "\n",
              "        async function convertToInteractive(key) {\n",
              "          const element = document.querySelector('#df-66e861ce-703e-45b4-b9bb-5019d24bec06');\n",
              "          const dataTable =\n",
              "            await google.colab.kernel.invokeFunction('convertToInteractive',\n",
              "                                                     [key], {});\n",
              "          if (!dataTable) return;\n",
              "\n",
              "          const docLinkHtml = 'Like what you see? Visit the ' +\n",
              "            '<a target=\"_blank\" href=https://colab.research.google.com/notebooks/data_table.ipynb>data table notebook</a>'\n",
              "            + ' to learn more about interactive tables.';\n",
              "          element.innerHTML = '';\n",
              "          dataTable['output_type'] = 'display_data';\n",
              "          await google.colab.output.renderOutput(dataTable, element);\n",
              "          const docLink = document.createElement('div');\n",
              "          docLink.innerHTML = docLinkHtml;\n",
              "          element.appendChild(docLink);\n",
              "        }\n",
              "      </script>\n",
              "    </div>\n",
              "  </div>\n",
              "  "
            ]
          },
          "metadata": {},
          "execution_count": 3
        }
      ],
      "source": [
        "data.head(20)"
      ]
    },
    {
      "cell_type": "markdown",
      "source": [
        "The data has columns like:\n",
        "\n",
        "1)name\n",
        "\n",
        "2)date\n",
        "\n",
        "3)gender\n",
        "\n",
        "4)race\n",
        "\n",
        "5)date\n",
        "\n",
        "6)street_address\n",
        "\n",
        "7)city\n",
        "\n",
        "8)state\n",
        "\n",
        "9)race\n",
        "\n",
        "10)zip\n",
        "\n",
        "11)encounter_type\n",
        "\n",
        "12)agency_responsible\n",
        "\n",
        "13)cause_of_death\n",
        "\n",
        "14)news_urls\n",
        "\n",
        "and many more"
      ],
      "metadata": {
        "id": "tDxsKnRiO27n"
      }
    },
    {
      "cell_type": "code",
      "execution_count": null,
      "metadata": {
        "colab": {
          "base_uri": "https://localhost:8080/"
        },
        "id": "466RmL3ikfqT",
        "outputId": "9be374cc-4da1-463a-c3ac-a4218f61fbc0"
      },
      "outputs": [
        {
          "output_type": "execute_result",
          "data": {
            "text/plain": [
              "(10345, 68)"
            ]
          },
          "metadata": {},
          "execution_count": 7
        }
      ],
      "source": [
        "data.shape"
      ]
    },
    {
      "cell_type": "markdown",
      "source": [
        "The dataset has 68 columns and 10345 rows."
      ],
      "metadata": {
        "id": "d0iXMm3yPyAa"
      }
    },
    {
      "cell_type": "code",
      "execution_count": null,
      "metadata": {
        "colab": {
          "base_uri": "https://localhost:8080/"
        },
        "id": "OAaqbhgkkioo",
        "outputId": "2d4ddec9-154e-4f0b-fd46-4c8c6fd15eca"
      },
      "outputs": [
        {
          "output_type": "execute_result",
          "data": {
            "text/plain": [
              "name                          object\n",
              "age                          float64\n",
              "gender                        object\n",
              "race                          object\n",
              "date                          object\n",
              "                              ...   \n",
              "alert_ids                     object\n",
              "prosecutor_party              object\n",
              "prosecutor_term               object\n",
              "independent_investigation     object\n",
              "officer_race_inferred         object\n",
              "Length: 68, dtype: object"
            ]
          },
          "metadata": {},
          "execution_count": 8
        }
      ],
      "source": [
        "data.dtypes"
      ]
    },
    {
      "cell_type": "markdown",
      "source": [
        "The data type for each column is found above. For example: age is a float value.\n"
      ],
      "metadata": {
        "id": "28HNUavxP3E5"
      }
    },
    {
      "cell_type": "markdown",
      "source": [
        "It is important to clean the dataset before we find any conclusions from it. \n",
        "\n",
        "Let us first check for duplicates in the data set."
      ],
      "metadata": {
        "id": "lBitpgmCQHrd"
      }
    },
    {
      "cell_type": "code",
      "execution_count": null,
      "metadata": {
        "colab": {
          "base_uri": "https://localhost:8080/",
          "height": 274
        },
        "id": "_XL4bg30mCyf",
        "outputId": "eddf04bf-7b81-420a-8820-d5e3b881f5b8"
      },
      "outputs": [
        {
          "output_type": "execute_result",
          "data": {
            "text/plain": [
              "                    name  age gender race date street_address city state  zip  \\\n",
              "2288   Annette M. Durham  NaN    NaN  NaN  NaN            NaN  NaN   NaN  NaN   \n",
              "10327  Annette M. Durham  NaN    NaN  NaN  NaN            NaN  NaN   NaN  NaN   \n",
              "\n",
              "      county  ... prosecutor_gender prosecutor_special prosecutor_url  \\\n",
              "2288     NaN  ...               NaN                NaN            NaN   \n",
              "10327    NaN  ...               NaN                NaN            NaN   \n",
              "\n",
              "      prosecutor_in_court possible_suicide alert_ids prosecutor_party  \\\n",
              "2288                  NaN              NaN       NaN              NaN   \n",
              "10327                 NaN              NaN       NaN              NaN   \n",
              "\n",
              "      prosecutor_term independent_investigation officer_race_inferred  \n",
              "2288              NaN                       NaN                   NaN  \n",
              "10327             NaN                       NaN                   NaN  \n",
              "\n",
              "[2 rows x 68 columns]"
            ],
            "text/html": [
              "\n",
              "  <div id=\"df-e60992d0-942d-48a9-8178-6f608b37922d\">\n",
              "    <div class=\"colab-df-container\">\n",
              "      <div>\n",
              "<style scoped>\n",
              "    .dataframe tbody tr th:only-of-type {\n",
              "        vertical-align: middle;\n",
              "    }\n",
              "\n",
              "    .dataframe tbody tr th {\n",
              "        vertical-align: top;\n",
              "    }\n",
              "\n",
              "    .dataframe thead th {\n",
              "        text-align: right;\n",
              "    }\n",
              "</style>\n",
              "<table border=\"1\" class=\"dataframe\">\n",
              "  <thead>\n",
              "    <tr style=\"text-align: right;\">\n",
              "      <th></th>\n",
              "      <th>name</th>\n",
              "      <th>age</th>\n",
              "      <th>gender</th>\n",
              "      <th>race</th>\n",
              "      <th>date</th>\n",
              "      <th>street_address</th>\n",
              "      <th>city</th>\n",
              "      <th>state</th>\n",
              "      <th>zip</th>\n",
              "      <th>county</th>\n",
              "      <th>...</th>\n",
              "      <th>prosecutor_gender</th>\n",
              "      <th>prosecutor_special</th>\n",
              "      <th>prosecutor_url</th>\n",
              "      <th>prosecutor_in_court</th>\n",
              "      <th>possible_suicide</th>\n",
              "      <th>alert_ids</th>\n",
              "      <th>prosecutor_party</th>\n",
              "      <th>prosecutor_term</th>\n",
              "      <th>independent_investigation</th>\n",
              "      <th>officer_race_inferred</th>\n",
              "    </tr>\n",
              "  </thead>\n",
              "  <tbody>\n",
              "    <tr>\n",
              "      <th>2288</th>\n",
              "      <td>Annette M. Durham</td>\n",
              "      <td>NaN</td>\n",
              "      <td>NaN</td>\n",
              "      <td>NaN</td>\n",
              "      <td>NaN</td>\n",
              "      <td>NaN</td>\n",
              "      <td>NaN</td>\n",
              "      <td>NaN</td>\n",
              "      <td>NaN</td>\n",
              "      <td>NaN</td>\n",
              "      <td>...</td>\n",
              "      <td>NaN</td>\n",
              "      <td>NaN</td>\n",
              "      <td>NaN</td>\n",
              "      <td>NaN</td>\n",
              "      <td>NaN</td>\n",
              "      <td>NaN</td>\n",
              "      <td>NaN</td>\n",
              "      <td>NaN</td>\n",
              "      <td>NaN</td>\n",
              "      <td>NaN</td>\n",
              "    </tr>\n",
              "    <tr>\n",
              "      <th>10327</th>\n",
              "      <td>Annette M. Durham</td>\n",
              "      <td>NaN</td>\n",
              "      <td>NaN</td>\n",
              "      <td>NaN</td>\n",
              "      <td>NaN</td>\n",
              "      <td>NaN</td>\n",
              "      <td>NaN</td>\n",
              "      <td>NaN</td>\n",
              "      <td>NaN</td>\n",
              "      <td>NaN</td>\n",
              "      <td>...</td>\n",
              "      <td>NaN</td>\n",
              "      <td>NaN</td>\n",
              "      <td>NaN</td>\n",
              "      <td>NaN</td>\n",
              "      <td>NaN</td>\n",
              "      <td>NaN</td>\n",
              "      <td>NaN</td>\n",
              "      <td>NaN</td>\n",
              "      <td>NaN</td>\n",
              "      <td>NaN</td>\n",
              "    </tr>\n",
              "  </tbody>\n",
              "</table>\n",
              "<p>2 rows × 68 columns</p>\n",
              "</div>\n",
              "      <button class=\"colab-df-convert\" onclick=\"convertToInteractive('df-e60992d0-942d-48a9-8178-6f608b37922d')\"\n",
              "              title=\"Convert this dataframe to an interactive table.\"\n",
              "              style=\"display:none;\">\n",
              "        \n",
              "  <svg xmlns=\"http://www.w3.org/2000/svg\" height=\"24px\"viewBox=\"0 0 24 24\"\n",
              "       width=\"24px\">\n",
              "    <path d=\"M0 0h24v24H0V0z\" fill=\"none\"/>\n",
              "    <path d=\"M18.56 5.44l.94 2.06.94-2.06 2.06-.94-2.06-.94-.94-2.06-.94 2.06-2.06.94zm-11 1L8.5 8.5l.94-2.06 2.06-.94-2.06-.94L8.5 2.5l-.94 2.06-2.06.94zm10 10l.94 2.06.94-2.06 2.06-.94-2.06-.94-.94-2.06-.94 2.06-2.06.94z\"/><path d=\"M17.41 7.96l-1.37-1.37c-.4-.4-.92-.59-1.43-.59-.52 0-1.04.2-1.43.59L10.3 9.45l-7.72 7.72c-.78.78-.78 2.05 0 2.83L4 21.41c.39.39.9.59 1.41.59.51 0 1.02-.2 1.41-.59l7.78-7.78 2.81-2.81c.8-.78.8-2.07 0-2.86zM5.41 20L4 18.59l7.72-7.72 1.47 1.35L5.41 20z\"/>\n",
              "  </svg>\n",
              "      </button>\n",
              "      \n",
              "  <style>\n",
              "    .colab-df-container {\n",
              "      display:flex;\n",
              "      flex-wrap:wrap;\n",
              "      gap: 12px;\n",
              "    }\n",
              "\n",
              "    .colab-df-convert {\n",
              "      background-color: #E8F0FE;\n",
              "      border: none;\n",
              "      border-radius: 50%;\n",
              "      cursor: pointer;\n",
              "      display: none;\n",
              "      fill: #1967D2;\n",
              "      height: 32px;\n",
              "      padding: 0 0 0 0;\n",
              "      width: 32px;\n",
              "    }\n",
              "\n",
              "    .colab-df-convert:hover {\n",
              "      background-color: #E2EBFA;\n",
              "      box-shadow: 0px 1px 2px rgba(60, 64, 67, 0.3), 0px 1px 3px 1px rgba(60, 64, 67, 0.15);\n",
              "      fill: #174EA6;\n",
              "    }\n",
              "\n",
              "    [theme=dark] .colab-df-convert {\n",
              "      background-color: #3B4455;\n",
              "      fill: #D2E3FC;\n",
              "    }\n",
              "\n",
              "    [theme=dark] .colab-df-convert:hover {\n",
              "      background-color: #434B5C;\n",
              "      box-shadow: 0px 1px 3px 1px rgba(0, 0, 0, 0.15);\n",
              "      filter: drop-shadow(0px 1px 2px rgba(0, 0, 0, 0.3));\n",
              "      fill: #FFFFFF;\n",
              "    }\n",
              "  </style>\n",
              "\n",
              "      <script>\n",
              "        const buttonEl =\n",
              "          document.querySelector('#df-e60992d0-942d-48a9-8178-6f608b37922d button.colab-df-convert');\n",
              "        buttonEl.style.display =\n",
              "          google.colab.kernel.accessAllowed ? 'block' : 'none';\n",
              "\n",
              "        async function convertToInteractive(key) {\n",
              "          const element = document.querySelector('#df-e60992d0-942d-48a9-8178-6f608b37922d');\n",
              "          const dataTable =\n",
              "            await google.colab.kernel.invokeFunction('convertToInteractive',\n",
              "                                                     [key], {});\n",
              "          if (!dataTable) return;\n",
              "\n",
              "          const docLinkHtml = 'Like what you see? Visit the ' +\n",
              "            '<a target=\"_blank\" href=https://colab.research.google.com/notebooks/data_table.ipynb>data table notebook</a>'\n",
              "            + ' to learn more about interactive tables.';\n",
              "          element.innerHTML = '';\n",
              "          dataTable['output_type'] = 'display_data';\n",
              "          await google.colab.output.renderOutput(dataTable, element);\n",
              "          const docLink = document.createElement('div');\n",
              "          docLink.innerHTML = docLinkHtml;\n",
              "          element.appendChild(docLink);\n",
              "        }\n",
              "      </script>\n",
              "    </div>\n",
              "  </div>\n",
              "  "
            ]
          },
          "metadata": {},
          "execution_count": 9
        }
      ],
      "source": [
        "duplicate = data[data.duplicated(keep=False)]\n",
        "duplicate"
      ]
    },
    {
      "cell_type": "markdown",
      "source": [
        "There are two rows that have the same data entered. Hence, this is redundant data. Let us remove it."
      ],
      "metadata": {
        "id": "EBSbWQklQUEJ"
      }
    },
    {
      "cell_type": "code",
      "execution_count": null,
      "metadata": {
        "id": "l8QpEI-OmJE6"
      },
      "outputs": [],
      "source": [
        "data.drop_duplicates(keep=False, inplace=True)\n",
        "  "
      ]
    },
    {
      "cell_type": "markdown",
      "source": [
        "The above line of code removes one row of the duplicates."
      ],
      "metadata": {
        "id": "YIna0TwrQmNK"
      }
    },
    {
      "cell_type": "code",
      "execution_count": null,
      "metadata": {
        "colab": {
          "base_uri": "https://localhost:8080/",
          "height": 142
        },
        "id": "l-JmbKbxmjXV",
        "outputId": "82dee0e5-c334-4674-9a55-efc3256f5d88"
      },
      "outputs": [
        {
          "output_type": "execute_result",
          "data": {
            "text/plain": [
              "Empty DataFrame\n",
              "Columns: [name, age, gender, race, date, street_address, city, state, zip, county, agency_responsible, ori, cause_of_death, circumstances, disposition_official, officer_charged, news_urls, signs_of_mental_illness, allegedly_armed, wapo_armed, wapo_threat_level, wapo_flee, wapo_body_camera, wapo_id, geography, mpv_id, fe_id, tract, urban_rural_uspsai, urban_rural_nchs, hhincome_median_census_tract, latitude, longitude, pop_total_census_tract, pop_white_census_tract, pop_black_census_tract, pop_native_american_census_tract, pop_asian_census_tract, pop_pacific_islander_census_tract, pop_other_multiple_census_tract, pop_hispanic_census_tract, congressional_district_113, congressperson_lastname, congressperson_firstname, congressperson_party, Publish, victim_image, encounter_type, initial_reason, call_for_service, officer_names, race_inferred, alert_urls, officer_known_past_shootings, officer_races, off_duty_killing, prosecutor_head, prosecutor_race, prosecutor_gender, prosecutor_special, prosecutor_url, prosecutor_in_court, possible_suicide, alert_ids, prosecutor_party, prosecutor_term, independent_investigation, officer_race_inferred]\n",
              "Index: []\n",
              "\n",
              "[0 rows x 68 columns]"
            ],
            "text/html": [
              "\n",
              "  <div id=\"df-7ffce790-21d7-407c-be23-abf173f19cf2\">\n",
              "    <div class=\"colab-df-container\">\n",
              "      <div>\n",
              "<style scoped>\n",
              "    .dataframe tbody tr th:only-of-type {\n",
              "        vertical-align: middle;\n",
              "    }\n",
              "\n",
              "    .dataframe tbody tr th {\n",
              "        vertical-align: top;\n",
              "    }\n",
              "\n",
              "    .dataframe thead th {\n",
              "        text-align: right;\n",
              "    }\n",
              "</style>\n",
              "<table border=\"1\" class=\"dataframe\">\n",
              "  <thead>\n",
              "    <tr style=\"text-align: right;\">\n",
              "      <th></th>\n",
              "      <th>name</th>\n",
              "      <th>age</th>\n",
              "      <th>gender</th>\n",
              "      <th>race</th>\n",
              "      <th>date</th>\n",
              "      <th>street_address</th>\n",
              "      <th>city</th>\n",
              "      <th>state</th>\n",
              "      <th>zip</th>\n",
              "      <th>county</th>\n",
              "      <th>...</th>\n",
              "      <th>prosecutor_gender</th>\n",
              "      <th>prosecutor_special</th>\n",
              "      <th>prosecutor_url</th>\n",
              "      <th>prosecutor_in_court</th>\n",
              "      <th>possible_suicide</th>\n",
              "      <th>alert_ids</th>\n",
              "      <th>prosecutor_party</th>\n",
              "      <th>prosecutor_term</th>\n",
              "      <th>independent_investigation</th>\n",
              "      <th>officer_race_inferred</th>\n",
              "    </tr>\n",
              "  </thead>\n",
              "  <tbody>\n",
              "  </tbody>\n",
              "</table>\n",
              "<p>0 rows × 68 columns</p>\n",
              "</div>\n",
              "      <button class=\"colab-df-convert\" onclick=\"convertToInteractive('df-7ffce790-21d7-407c-be23-abf173f19cf2')\"\n",
              "              title=\"Convert this dataframe to an interactive table.\"\n",
              "              style=\"display:none;\">\n",
              "        \n",
              "  <svg xmlns=\"http://www.w3.org/2000/svg\" height=\"24px\"viewBox=\"0 0 24 24\"\n",
              "       width=\"24px\">\n",
              "    <path d=\"M0 0h24v24H0V0z\" fill=\"none\"/>\n",
              "    <path d=\"M18.56 5.44l.94 2.06.94-2.06 2.06-.94-2.06-.94-.94-2.06-.94 2.06-2.06.94zm-11 1L8.5 8.5l.94-2.06 2.06-.94-2.06-.94L8.5 2.5l-.94 2.06-2.06.94zm10 10l.94 2.06.94-2.06 2.06-.94-2.06-.94-.94-2.06-.94 2.06-2.06.94z\"/><path d=\"M17.41 7.96l-1.37-1.37c-.4-.4-.92-.59-1.43-.59-.52 0-1.04.2-1.43.59L10.3 9.45l-7.72 7.72c-.78.78-.78 2.05 0 2.83L4 21.41c.39.39.9.59 1.41.59.51 0 1.02-.2 1.41-.59l7.78-7.78 2.81-2.81c.8-.78.8-2.07 0-2.86zM5.41 20L4 18.59l7.72-7.72 1.47 1.35L5.41 20z\"/>\n",
              "  </svg>\n",
              "      </button>\n",
              "      \n",
              "  <style>\n",
              "    .colab-df-container {\n",
              "      display:flex;\n",
              "      flex-wrap:wrap;\n",
              "      gap: 12px;\n",
              "    }\n",
              "\n",
              "    .colab-df-convert {\n",
              "      background-color: #E8F0FE;\n",
              "      border: none;\n",
              "      border-radius: 50%;\n",
              "      cursor: pointer;\n",
              "      display: none;\n",
              "      fill: #1967D2;\n",
              "      height: 32px;\n",
              "      padding: 0 0 0 0;\n",
              "      width: 32px;\n",
              "    }\n",
              "\n",
              "    .colab-df-convert:hover {\n",
              "      background-color: #E2EBFA;\n",
              "      box-shadow: 0px 1px 2px rgba(60, 64, 67, 0.3), 0px 1px 3px 1px rgba(60, 64, 67, 0.15);\n",
              "      fill: #174EA6;\n",
              "    }\n",
              "\n",
              "    [theme=dark] .colab-df-convert {\n",
              "      background-color: #3B4455;\n",
              "      fill: #D2E3FC;\n",
              "    }\n",
              "\n",
              "    [theme=dark] .colab-df-convert:hover {\n",
              "      background-color: #434B5C;\n",
              "      box-shadow: 0px 1px 3px 1px rgba(0, 0, 0, 0.15);\n",
              "      filter: drop-shadow(0px 1px 2px rgba(0, 0, 0, 0.3));\n",
              "      fill: #FFFFFF;\n",
              "    }\n",
              "  </style>\n",
              "\n",
              "      <script>\n",
              "        const buttonEl =\n",
              "          document.querySelector('#df-7ffce790-21d7-407c-be23-abf173f19cf2 button.colab-df-convert');\n",
              "        buttonEl.style.display =\n",
              "          google.colab.kernel.accessAllowed ? 'block' : 'none';\n",
              "\n",
              "        async function convertToInteractive(key) {\n",
              "          const element = document.querySelector('#df-7ffce790-21d7-407c-be23-abf173f19cf2');\n",
              "          const dataTable =\n",
              "            await google.colab.kernel.invokeFunction('convertToInteractive',\n",
              "                                                     [key], {});\n",
              "          if (!dataTable) return;\n",
              "\n",
              "          const docLinkHtml = 'Like what you see? Visit the ' +\n",
              "            '<a target=\"_blank\" href=https://colab.research.google.com/notebooks/data_table.ipynb>data table notebook</a>'\n",
              "            + ' to learn more about interactive tables.';\n",
              "          element.innerHTML = '';\n",
              "          dataTable['output_type'] = 'display_data';\n",
              "          await google.colab.output.renderOutput(dataTable, element);\n",
              "          const docLink = document.createElement('div');\n",
              "          docLink.innerHTML = docLinkHtml;\n",
              "          element.appendChild(docLink);\n",
              "        }\n",
              "      </script>\n",
              "    </div>\n",
              "  </div>\n",
              "  "
            ]
          },
          "metadata": {},
          "execution_count": 11
        }
      ],
      "source": [
        "duplicate = data[data.duplicated(keep=False)]\n",
        "duplicate"
      ]
    },
    {
      "cell_type": "markdown",
      "source": [
        "Now we can see that the data has no duplicate values."
      ],
      "metadata": {
        "id": "ApqVKtm7QzSp"
      }
    },
    {
      "cell_type": "markdown",
      "source": [
        "## PART 1\n",
        "\n",
        "\n",
        "---\n",
        "\n",
        "\n",
        "\n",
        "---\n",
        "\n",
        "\n",
        "\n"
      ],
      "metadata": {
        "id": "aDbkms8GRHK1"
      }
    },
    {
      "cell_type": "markdown",
      "source": [
        "In part1 we are dealing with the \"Traffic Stop\", hence we are focusing on encounter_type. Therefore, let us create a dataset \"encounter\" that has only the column \"encounter type\""
      ],
      "metadata": {
        "id": "v1CstYN-RVe-"
      }
    },
    {
      "cell_type": "code",
      "execution_count": null,
      "metadata": {
        "id": "qr_Wy5EjlKa_"
      },
      "outputs": [],
      "source": [
        "encounter=data['encounter_type']"
      ]
    },
    {
      "cell_type": "markdown",
      "source": [
        "Let us see how the dataset encounter looks like."
      ],
      "metadata": {
        "id": "qBKzok9-RnJP"
      }
    },
    {
      "cell_type": "code",
      "execution_count": null,
      "metadata": {
        "colab": {
          "base_uri": "https://localhost:8080/"
        },
        "id": "FbuEAcFelrtW",
        "outputId": "284930c1-3a34-425e-c70a-f6ad0f932425"
      },
      "outputs": [
        {
          "output_type": "execute_result",
          "data": {
            "text/plain": [
              "0                              NaN\n",
              "1                     Traffic Stop\n",
              "2                              NaN\n",
              "3             Part 1 Violent Crime\n",
              "4                              NaN\n",
              "                   ...            \n",
              "10340    Other Non-Violent Offense\n",
              "10341                          NaN\n",
              "10342                          NaN\n",
              "10343                          NaN\n",
              "10344         Person with a Weapon\n",
              "Name: encounter_type, Length: 10343, dtype: object"
            ]
          },
          "metadata": {},
          "execution_count": 13
        }
      ],
      "source": [
        "encounter"
      ]
    },
    {
      "cell_type": "markdown",
      "source": [],
      "metadata": {
        "id": "-SBNScv1Rt76"
      }
    },
    {
      "cell_type": "code",
      "execution_count": null,
      "metadata": {
        "colab": {
          "base_uri": "https://localhost:8080/"
        },
        "id": "9MfvSXWZlu6J",
        "outputId": "71a79fdf-7b72-4a63-f589-ea1e2b8dcd73"
      },
      "outputs": [
        {
          "output_type": "execute_result",
          "data": {
            "text/plain": [
              "10343"
            ]
          },
          "metadata": {},
          "execution_count": 14
        }
      ],
      "source": [
        "encounter.size"
      ]
    },
    {
      "cell_type": "markdown",
      "source": [
        "Let us check if the dataset encounter has any missing values. "
      ],
      "metadata": {
        "id": "0uhgxVF5R_Qw"
      }
    },
    {
      "cell_type": "code",
      "execution_count": null,
      "metadata": {
        "colab": {
          "base_uri": "https://localhost:8080/"
        },
        "id": "ROzCV0STlwZ-",
        "outputId": "9a453dda-80bf-4486-abe7-8581b52d5c16"
      },
      "outputs": [
        {
          "output_type": "execute_result",
          "data": {
            "text/plain": [
              "0     True\n",
              "1    False\n",
              "2     True\n",
              "3    False\n",
              "4     True\n",
              "5     True\n",
              "6     True\n",
              "7     True\n",
              "8     True\n",
              "9    False\n",
              "Name: encounter_type, dtype: bool"
            ]
          },
          "metadata": {},
          "execution_count": 15
        }
      ],
      "source": [
        "encounter.isna().head(10)"
      ]
    },
    {
      "cell_type": "code",
      "execution_count": null,
      "metadata": {
        "colab": {
          "base_uri": "https://localhost:8080/"
        },
        "id": "zi45pTHTnGT3",
        "outputId": "0b82b961-bc85-478e-b41b-312e263b3985"
      },
      "outputs": [
        {
          "output_type": "execute_result",
          "data": {
            "text/plain": [
              "4522"
            ]
          },
          "metadata": {},
          "execution_count": 16
        }
      ],
      "source": [
        "encounter.isna().sum()"
      ]
    },
    {
      "cell_type": "markdown",
      "source": [
        "The dataset encounter has 4522 rows with missing values. All these values have to be replaced or removed.\n",
        "\n",
        "As we dont know the excat value to replace these values with let us remove them all."
      ],
      "metadata": {
        "id": "64c_PKuVSIq3"
      }
    },
    {
      "cell_type": "code",
      "execution_count": null,
      "metadata": {
        "id": "MT5cR7sInP1f"
      },
      "outputs": [],
      "source": [
        "encounter=encounter.dropna()"
      ]
    },
    {
      "cell_type": "code",
      "execution_count": null,
      "metadata": {
        "colab": {
          "base_uri": "https://localhost:8080/"
        },
        "id": "guYUEeENnn79",
        "outputId": "001d019e-53a2-48ff-91c9-dc6d758030d5"
      },
      "outputs": [
        {
          "output_type": "execute_result",
          "data": {
            "text/plain": [
              "0"
            ]
          },
          "metadata": {},
          "execution_count": 18
        }
      ],
      "source": [
        "encounter.isna().sum()"
      ]
    },
    {
      "cell_type": "markdown",
      "source": [
        "After dropping the missing values we can see that the dataset encounter has zero missing values."
      ],
      "metadata": {
        "id": "01Tc30_NSZ-N"
      }
    },
    {
      "cell_type": "markdown",
      "source": [
        "Let us check all the unique values present in the column encouter_type."
      ],
      "metadata": {
        "id": "wWVToSBvSi9e"
      }
    },
    {
      "cell_type": "code",
      "execution_count": null,
      "metadata": {
        "colab": {
          "base_uri": "https://localhost:8080/"
        },
        "id": "WmB2ZAnLn1KW",
        "outputId": "93d2b268-cd41-4191-dae1-33b18f843f60"
      },
      "outputs": [
        {
          "output_type": "stream",
          "name": "stdout",
          "text": [
            "Traffic Stop\n",
            "Part 1 Violent Crime\n",
            "Domestic Disturbance\n",
            "Other Crimes Against People\n",
            "Person with a Weapon\n",
            "Other Non-Violent Offense\n",
            "None/Unknown\n",
            "Mental Health/Welfare Check\n",
            "Other Crimes Against People/Domestic Disturbance\n",
            "Part 1 Violent Crime/Domestic disturbance\n",
            "Traffic Stop/Other Non-Violent Offense\n",
            "Domestic Disturbance/Mental Health/Welfare Check\n",
            "Part 1 Violent Crime/Traffic Stop\n",
            "Part 1 Violent Crime/Mental Health/Welfare Check\n",
            "Person with a Weapon (knife, explosive)\n",
            "Person with a Weapon/Mental Health/Welfare Check\n",
            "Person with a Weapon (fake gun)\n",
            "Person with a weapon/Mental Health/Welfare Check\n",
            "Part 1 Violent Crime/Domestic Disturbance/Mental Health/Welfare Check\n"
          ]
        }
      ],
      "source": [
        "z=encounter.unique()\n",
        "for i in z:\n",
        "  print(i)\n"
      ]
    },
    {
      "cell_type": "markdown",
      "source": [
        "When we check all the unique values in encounter dataset we can see that there are rows that have two values. For example: Part 1 Violent Crime/Traffic Stop."
      ],
      "metadata": {
        "id": "lIxkve28SlaP"
      }
    },
    {
      "cell_type": "markdown",
      "source": [
        "Initially to count the number of traffic stop-involved police killings let us consider only those rows which have specifically mentioned encounter_type as \"Traffic Stops\""
      ],
      "metadata": {
        "id": "xDyy-hVtTHQs"
      }
    },
    {
      "cell_type": "code",
      "execution_count": null,
      "metadata": {
        "colab": {
          "base_uri": "https://localhost:8080/"
        },
        "id": "0qPAIodcodUr",
        "outputId": "9ffcddb1-898b-4d79-c9b3-cb42423813c8"
      },
      "outputs": [
        {
          "output_type": "stream",
          "name": "stdout",
          "text": [
            "The number of traffic stop-involved police killings are: 595\n"
          ]
        }
      ],
      "source": [
        "b=(encounter.loc[encounter == 'Traffic Stop']).count()\n",
        "print(\"The number of traffic stop-involved police killings are:\",b)"
      ]
    },
    {
      "cell_type": "markdown",
      "source": [
        "**The number of traffic stop-involved police killings are: 595**"
      ],
      "metadata": {
        "id": "JxdG9l-ATXZi"
      }
    },
    {
      "cell_type": "markdown",
      "source": [
        "But as we observed earlier there are rows with more than one input which have Traffic Stop as an option. Now let us count those also into consideration."
      ],
      "metadata": {
        "id": "RAmSN3liTsaY"
      }
    },
    {
      "cell_type": "code",
      "execution_count": null,
      "metadata": {
        "colab": {
          "base_uri": "https://localhost:8080/"
        },
        "id": "HNUHtJIoppMZ",
        "outputId": "cbdadb85-88f4-4464-9dc7-91d7ac149280"
      },
      "outputs": [
        {
          "output_type": "stream",
          "name": "stdout",
          "text": [
            "The number of traffic stop-involved police killings along with discrepancy are: 653\n"
          ]
        }
      ],
      "source": [
        "c=encounter.loc[encounter. isin([ 'Traffic Stop/Other Non-Violent Offense','Part 1 Violent Crime/Traffic Stop'])].count()\n",
        "d=c+b\n",
        "print(\"The number of traffic stop-involved police killings along with discrepancy are:\",d)"
      ]
    },
    {
      "cell_type": "markdown",
      "source": [
        "**The number of traffic stop-involved police killings along with discrepancy are: 653**"
      ],
      "metadata": {
        "id": "yb3UY4t4T9R1"
      }
    },
    {
      "cell_type": "markdown",
      "source": [
        "Now to calculate the proportion of Traffic Stops we need the total number of encounters with no missing values and duplicates.\n"
      ],
      "metadata": {
        "id": "PjgRCbXrUO6x"
      }
    },
    {
      "cell_type": "code",
      "execution_count": null,
      "metadata": {
        "id": "nXDqtDQbqrsp",
        "colab": {
          "base_uri": "https://localhost:8080/"
        },
        "outputId": "b55f82fa-b90f-4516-b593-11ef8217d64e"
      },
      "outputs": [
        {
          "output_type": "execute_result",
          "data": {
            "text/plain": [
              "5821"
            ]
          },
          "metadata": {},
          "execution_count": 24
        }
      ],
      "source": [
        "Total_encounters=encounter.shape[0]\n",
        "Total_encounters"
      ]
    },
    {
      "cell_type": "markdown",
      "source": [
        "There are a total of 5821 entries after removing the missing values and duplicates."
      ],
      "metadata": {
        "id": "NAFtdQ1rVKux"
      }
    },
    {
      "cell_type": "code",
      "execution_count": null,
      "metadata": {
        "colab": {
          "base_uri": "https://localhost:8080/"
        },
        "id": "188As_0KurHJ",
        "outputId": "3c476620-b4e3-46ab-9cbd-668c1b2a7e76"
      },
      "outputs": [
        {
          "name": "stdout",
          "output_type": "stream",
          "text": [
            "The proportion of all police killings TSPKs comprise of are: 11.218003779419345\n"
          ]
        }
      ],
      "source": [
        "Proportion=(d/Total_encounters)*100\n",
        "print(\"The proportion of all police killings TSPKs comprise of are:\",Proportion)"
      ]
    },
    {
      "cell_type": "markdown",
      "source": [
        "**The proportion of all police killings TSPKs comprise of are: 11.218003779419345**\n"
      ],
      "metadata": {
        "id": "XMGAg5msVe8R"
      }
    },
    {
      "cell_type": "code",
      "execution_count": null,
      "metadata": {
        "colab": {
          "base_uri": "https://localhost:8080/",
          "height": 414
        },
        "id": "YKaBf1_EvIR5",
        "outputId": "8385daf1-53a9-4008-a226-b8ac3096429c"
      },
      "outputs": [
        {
          "data": {
            "image/png": "[encoded data removed]",
            "text/plain": [
              "<Figure size 1000x500 with 1 Axes>"
            ]
          },
          "metadata": {},
          "output_type": "display_data"
        }
      ],
      "source": [
        "labels = 'Traffic Stop-involved police killings', 'Others'\n",
        "sizes = [d,Total_encounters-d]\n",
        "# fig, ax = plt.subplots()\n",
        "# ax.pie(sizes, labels=labels, autopct='%1.1f%%')\n",
        "explode = (0.1, 0)  # only \"explode\" the 2nd slice (i.e. 'Hogs')\n",
        "plt.rcParams.update({'figure.figsize':(10,5), 'figure.dpi':100})\n",
        "fig, ax = plt.subplots()\n",
        "ax.pie(sizes, explode=explode, labels=labels, autopct='%1.1f%%',\n",
        "        shadow=True, startangle=90)\n",
        "plt.show()"
      ]
    },
    {
      "cell_type": "markdown",
      "source": [
        "# **PART 2**\n",
        "\n",
        "---\n",
        "\n",
        "\n",
        "\n",
        "---\n",
        "\n"
      ],
      "metadata": {
        "id": "Mf61pzxXVr5_"
      }
    },
    {
      "cell_type": "markdown",
      "source": [
        "We need to find the total number of incidents each year"
      ],
      "metadata": {
        "id": "SemFqV-_Vy3C"
      }
    },
    {
      "cell_type": "markdown",
      "source": [
        "For extracting the year from the date let us convert the date into a datetime object."
      ],
      "metadata": {
        "id": "7h1IQDf5V_M4"
      }
    },
    {
      "cell_type": "code",
      "execution_count": null,
      "metadata": {
        "id": "gP7GbaZmwYNz"
      },
      "outputs": [],
      "source": [
        "data['date'] = pd.to_datetime(data['date'])"
      ]
    },
    {
      "cell_type": "markdown",
      "source": [
        "Now let us create a new column 'year' to the already existing dataset."
      ],
      "metadata": {
        "id": "7G99J4FqWXro"
      }
    },
    {
      "cell_type": "code",
      "execution_count": null,
      "metadata": {
        "id": "LYevD_J7x-oA"
      },
      "outputs": [],
      "source": [
        "data['year'] = data['date'].dt.year"
      ]
    },
    {
      "cell_type": "markdown",
      "source": [
        "Let us look at the year column"
      ],
      "metadata": {
        "id": "03m6fZ1LWh1b"
      }
    },
    {
      "cell_type": "code",
      "execution_count": null,
      "metadata": {
        "colab": {
          "base_uri": "https://localhost:8080/"
        },
        "id": "Wj3n0JO_yXVn",
        "outputId": "c862dc74-4178-4bc1-9002-5fc6bb49eafb"
      },
      "outputs": [
        {
          "data": {
            "text/plain": [
              "0    2015.0\n",
              "1    2020.0\n",
              "2    2016.0\n",
              "3    2020.0\n",
              "4    2016.0\n",
              "Name: year, dtype: float64"
            ]
          },
          "execution_count": 179,
          "metadata": {},
          "output_type": "execute_result"
        }
      ],
      "source": [
        "data['year'].head()"
      ]
    },
    {
      "cell_type": "code",
      "execution_count": null,
      "metadata": {
        "id": "FlajN9jFya1p"
      },
      "outputs": [],
      "source": [
        "year=data['year']"
      ]
    },
    {
      "cell_type": "markdown",
      "source": [
        "Let us look at all the unique values in year"
      ],
      "metadata": {
        "id": "xq6SZ6btWq9Q"
      }
    },
    {
      "cell_type": "code",
      "execution_count": null,
      "metadata": {
        "colab": {
          "base_uri": "https://localhost:8080/"
        },
        "id": "dY4G9LhbyzM-",
        "outputId": "6f9133c7-6323-4f5c-bf48-5f4ca446eec3"
      },
      "outputs": [
        {
          "output_type": "stream",
          "name": "stdout",
          "text": [
            "2015.0\n",
            "2020.0\n",
            "2016.0\n",
            "2013.0\n",
            "2018.0\n",
            "2021.0\n",
            "2017.0\n",
            "2014.0\n",
            "2022.0\n",
            "2019.0\n",
            "nan\n"
          ]
        }
      ],
      "source": [
        "y=year.unique()\n",
        "for i in y:\n",
        "  print(i)"
      ]
    },
    {
      "cell_type": "markdown",
      "source": [
        "The year ranges from 2014 to 2022"
      ],
      "metadata": {
        "id": "ERaX2jaIWx_A"
      }
    },
    {
      "cell_type": "markdown",
      "source": [
        "Now let us count the total number of incidents in each year."
      ],
      "metadata": {
        "id": "NcQzldQyW5Tj"
      }
    },
    {
      "cell_type": "code",
      "execution_count": null,
      "metadata": {
        "colab": {
          "base_uri": "https://localhost:8080/"
        },
        "id": "nthf31BLy9-W",
        "outputId": "8ea191b8-b05d-4c35-b982-f3e776c9f1db"
      },
      "outputs": [
        {
          "output_type": "stream",
          "name": "stdout",
          "text": [
            "     year  incident_counts\n",
            "6  2013.0             1087\n",
            "8  2014.0             1049\n",
            "3  2015.0             1103\n",
            "7  2016.0             1070\n",
            "5  2017.0             1094\n",
            "1  2018.0             1145\n",
            "4  2019.0             1097\n",
            "2  2020.0             1132\n",
            "0  2021.0             1149\n",
            "9  2022.0              416\n"
          ]
        }
      ],
      "source": [
        "year_wise_icidents=year.value_counts().rename_axis('year').reset_index(name='incident_counts').sort_values(\"year\")\n",
        "print(year_wise_icidents)"
      ]
    },
    {
      "cell_type": "code",
      "source": [],
      "metadata": {
        "id": "iTSC-5q9Zz5v"
      },
      "execution_count": null,
      "outputs": []
    },
    {
      "cell_type": "code",
      "execution_count": null,
      "metadata": {
        "colab": {
          "base_uri": "https://localhost:8080/",
          "height": 480
        },
        "id": "tliB-myLzbC9",
        "outputId": "532bbc32-d3c9-4ebb-9118-90c9925c49ec"
      },
      "outputs": [
        {
          "data": {
            "image/png": "[encoded data removed]",
            "text/plain": [
              "<Figure size 1000x500 with 1 Axes>"
            ]
          },
          "metadata": {},
          "output_type": "display_data"
        }
      ],
      "source": [
        "plt.plot(year_wise_icidents['year'], year_wise_icidents['incident_counts'],color='red', marker='o')\n",
        "plt.title('year vs incidents')\n",
        "plt.xlabel('year')\n",
        "plt.ylabel('Number of incidents')\n",
        "plt.grid(True)\n",
        "plt.show()"
      ]
    },
    {
      "cell_type": "code",
      "execution_count": null,
      "metadata": {
        "colab": {
          "base_uri": "https://localhost:8080/",
          "height": 423
        },
        "id": "uY3gt0mA054g",
        "outputId": "d390c4c7-9810-456a-a33e-d628f0770088"
      },
      "outputs": [
        {
          "data": {
            "text/html": [
              "\n",
              "  <div id=\"df-77fba5c8-922e-4090-95f5-94bde57608e6\">\n",
              "    <div class=\"colab-df-container\">\n",
              "      <div>\n",
              "<style scoped>\n",
              "    .dataframe tbody tr th:only-of-type {\n",
              "        vertical-align: middle;\n",
              "    }\n",
              "\n",
              "    .dataframe tbody tr th {\n",
              "        vertical-align: top;\n",
              "    }\n",
              "\n",
              "    .dataframe thead th {\n",
              "        text-align: right;\n",
              "    }\n",
              "</style>\n",
              "<table border=\"1\" class=\"dataframe\">\n",
              "  <thead>\n",
              "    <tr style=\"text-align: right;\">\n",
              "      <th></th>\n",
              "      <th>race</th>\n",
              "      <th>agency_responsible</th>\n",
              "      <th>encounter_type</th>\n",
              "    </tr>\n",
              "  </thead>\n",
              "  <tbody>\n",
              "    <tr>\n",
              "      <th>0</th>\n",
              "      <td>White</td>\n",
              "      <td>Broward County Sheriff's Office</td>\n",
              "      <td>NaN</td>\n",
              "    </tr>\n",
              "    <tr>\n",
              "      <th>1</th>\n",
              "      <td>Black</td>\n",
              "      <td>Broward Sheriff's Office</td>\n",
              "      <td>Traffic Stop</td>\n",
              "    </tr>\n",
              "    <tr>\n",
              "      <th>2</th>\n",
              "      <td>White</td>\n",
              "      <td>Phoenix Police Department</td>\n",
              "      <td>NaN</td>\n",
              "    </tr>\n",
              "    <tr>\n",
              "      <th>3</th>\n",
              "      <td>Black</td>\n",
              "      <td>Escambia County Sheriff's Office</td>\n",
              "      <td>Part 1 Violent Crime</td>\n",
              "    </tr>\n",
              "    <tr>\n",
              "      <th>4</th>\n",
              "      <td>White</td>\n",
              "      <td>Utah County Sheriff's Office</td>\n",
              "      <td>NaN</td>\n",
              "    </tr>\n",
              "    <tr>\n",
              "      <th>...</th>\n",
              "      <td>...</td>\n",
              "      <td>...</td>\n",
              "      <td>...</td>\n",
              "    </tr>\n",
              "    <tr>\n",
              "      <th>10340</th>\n",
              "      <td>White</td>\n",
              "      <td>Santa Fe Police Department</td>\n",
              "      <td>Other Non-Violent Offense</td>\n",
              "    </tr>\n",
              "    <tr>\n",
              "      <th>10341</th>\n",
              "      <td>Black</td>\n",
              "      <td>New Orleans Police Department</td>\n",
              "      <td>NaN</td>\n",
              "    </tr>\n",
              "    <tr>\n",
              "      <th>10342</th>\n",
              "      <td>Hispanic</td>\n",
              "      <td>Billings Police Department</td>\n",
              "      <td>NaN</td>\n",
              "    </tr>\n",
              "    <tr>\n",
              "      <th>10343</th>\n",
              "      <td>Black</td>\n",
              "      <td>New York Police Department</td>\n",
              "      <td>NaN</td>\n",
              "    </tr>\n",
              "    <tr>\n",
              "      <th>10344</th>\n",
              "      <td>White</td>\n",
              "      <td>Fairfax County Police Department</td>\n",
              "      <td>Person with a Weapon</td>\n",
              "    </tr>\n",
              "  </tbody>\n",
              "</table>\n",
              "<p>10343 rows × 3 columns</p>\n",
              "</div>\n",
              "      <button class=\"colab-df-convert\" onclick=\"convertToInteractive('df-77fba5c8-922e-4090-95f5-94bde57608e6')\"\n",
              "              title=\"Convert this dataframe to an interactive table.\"\n",
              "              style=\"display:none;\">\n",
              "        \n",
              "  <svg xmlns=\"http://www.w3.org/2000/svg\" height=\"24px\"viewBox=\"0 0 24 24\"\n",
              "       width=\"24px\">\n",
              "    <path d=\"M0 0h24v24H0V0z\" fill=\"none\"/>\n",
              "    <path d=\"M18.56 5.44l.94 2.06.94-2.06 2.06-.94-2.06-.94-.94-2.06-.94 2.06-2.06.94zm-11 1L8.5 8.5l.94-2.06 2.06-.94-2.06-.94L8.5 2.5l-.94 2.06-2.06.94zm10 10l.94 2.06.94-2.06 2.06-.94-2.06-.94-.94-2.06-.94 2.06-2.06.94z\"/><path d=\"M17.41 7.96l-1.37-1.37c-.4-.4-.92-.59-1.43-.59-.52 0-1.04.2-1.43.59L10.3 9.45l-7.72 7.72c-.78.78-.78 2.05 0 2.83L4 21.41c.39.39.9.59 1.41.59.51 0 1.02-.2 1.41-.59l7.78-7.78 2.81-2.81c.8-.78.8-2.07 0-2.86zM5.41 20L4 18.59l7.72-7.72 1.47 1.35L5.41 20z\"/>\n",
              "  </svg>\n",
              "      </button>\n",
              "      \n",
              "  <style>\n",
              "    .colab-df-container {\n",
              "      display:flex;\n",
              "      flex-wrap:wrap;\n",
              "      gap: 12px;\n",
              "    }\n",
              "\n",
              "    .colab-df-convert {\n",
              "      background-color: #E8F0FE;\n",
              "      border: none;\n",
              "      border-radius: 50%;\n",
              "      cursor: pointer;\n",
              "      display: none;\n",
              "      fill: #1967D2;\n",
              "      height: 32px;\n",
              "      padding: 0 0 0 0;\n",
              "      width: 32px;\n",
              "    }\n",
              "\n",
              "    .colab-df-convert:hover {\n",
              "      background-color: #E2EBFA;\n",
              "      box-shadow: 0px 1px 2px rgba(60, 64, 67, 0.3), 0px 1px 3px 1px rgba(60, 64, 67, 0.15);\n",
              "      fill: #174EA6;\n",
              "    }\n",
              "\n",
              "    [theme=dark] .colab-df-convert {\n",
              "      background-color: #3B4455;\n",
              "      fill: #D2E3FC;\n",
              "    }\n",
              "\n",
              "    [theme=dark] .colab-df-convert:hover {\n",
              "      background-color: #434B5C;\n",
              "      box-shadow: 0px 1px 3px 1px rgba(0, 0, 0, 0.15);\n",
              "      filter: drop-shadow(0px 1px 2px rgba(0, 0, 0, 0.3));\n",
              "      fill: #FFFFFF;\n",
              "    }\n",
              "  </style>\n",
              "\n",
              "      <script>\n",
              "        const buttonEl =\n",
              "          document.querySelector('#df-77fba5c8-922e-4090-95f5-94bde57608e6 button.colab-df-convert');\n",
              "        buttonEl.style.display =\n",
              "          google.colab.kernel.accessAllowed ? 'block' : 'none';\n",
              "\n",
              "        async function convertToInteractive(key) {\n",
              "          const element = document.querySelector('#df-77fba5c8-922e-4090-95f5-94bde57608e6');\n",
              "          const dataTable =\n",
              "            await google.colab.kernel.invokeFunction('convertToInteractive',\n",
              "                                                     [key], {});\n",
              "          if (!dataTable) return;\n",
              "\n",
              "          const docLinkHtml = 'Like what you see? Visit the ' +\n",
              "            '<a target=\"_blank\" href=https://colab.research.google.com/notebooks/data_table.ipynb>data table notebook</a>'\n",
              "            + ' to learn more about interactive tables.';\n",
              "          element.innerHTML = '';\n",
              "          dataTable['output_type'] = 'display_data';\n",
              "          await google.colab.output.renderOutput(dataTable, element);\n",
              "          const docLink = document.createElement('div');\n",
              "          docLink.innerHTML = docLinkHtml;\n",
              "          element.appendChild(docLink);\n",
              "        }\n",
              "      </script>\n",
              "    </div>\n",
              "  </div>\n",
              "  "
            ],
            "text/plain": [
              "           race                agency_responsible             encounter_type\n",
              "0         White   Broward County Sheriff's Office                        NaN\n",
              "1         Black          Broward Sheriff's Office               Traffic Stop\n",
              "2         White         Phoenix Police Department                        NaN\n",
              "3         Black  Escambia County Sheriff's Office       Part 1 Violent Crime\n",
              "4         White      Utah County Sheriff's Office                        NaN\n",
              "...         ...                               ...                        ...\n",
              "10340     White        Santa Fe Police Department  Other Non-Violent Offense\n",
              "10341     Black     New Orleans Police Department                        NaN\n",
              "10342  Hispanic        Billings Police Department                        NaN\n",
              "10343     Black        New York Police Department                        NaN\n",
              "10344     White  Fairfax County Police Department       Person with a Weapon\n",
              "\n",
              "[10343 rows x 3 columns]"
            ]
          },
          "execution_count": 190,
          "metadata": {},
          "output_type": "execute_result"
        }
      ],
      "source": [
        "data_race_agencies= data[['race','agency_responsible' ,'encounter_type']].copy()\n",
        "data_race_agencies"
      ]
    },
    {
      "cell_type": "code",
      "execution_count": null,
      "metadata": {
        "colab": {
          "base_uri": "https://localhost:8080/",
          "height": 423
        },
        "id": "8ZFAD4Gk2Fek",
        "outputId": "87d68d36-cfc8-4112-86a2-124bc8d59e1d"
      },
      "outputs": [
        {
          "data": {
            "text/html": [
              "\n",
              "  <div id=\"df-c2b95673-c76c-4d13-96b3-baf098e2fbbc\">\n",
              "    <div class=\"colab-df-container\">\n",
              "      <div>\n",
              "<style scoped>\n",
              "    .dataframe tbody tr th:only-of-type {\n",
              "        vertical-align: middle;\n",
              "    }\n",
              "\n",
              "    .dataframe tbody tr th {\n",
              "        vertical-align: top;\n",
              "    }\n",
              "\n",
              "    .dataframe thead th {\n",
              "        text-align: right;\n",
              "    }\n",
              "</style>\n",
              "<table border=\"1\" class=\"dataframe\">\n",
              "  <thead>\n",
              "    <tr style=\"text-align: right;\">\n",
              "      <th></th>\n",
              "      <th>race</th>\n",
              "      <th>agency_responsible</th>\n",
              "      <th>encounter_type</th>\n",
              "    </tr>\n",
              "  </thead>\n",
              "  <tbody>\n",
              "    <tr>\n",
              "      <th>1</th>\n",
              "      <td>Black</td>\n",
              "      <td>Broward Sheriff's Office</td>\n",
              "      <td>Traffic Stop</td>\n",
              "    </tr>\n",
              "    <tr>\n",
              "      <th>3</th>\n",
              "      <td>Black</td>\n",
              "      <td>Escambia County Sheriff's Office</td>\n",
              "      <td>Part 1 Violent Crime</td>\n",
              "    </tr>\n",
              "    <tr>\n",
              "      <th>9</th>\n",
              "      <td>Black</td>\n",
              "      <td>Bossier City Police Department</td>\n",
              "      <td>Domestic Disturbance</td>\n",
              "    </tr>\n",
              "    <tr>\n",
              "      <th>10</th>\n",
              "      <td>Black</td>\n",
              "      <td>Greensboro MD Police Department</td>\n",
              "      <td>Other Crimes Against People</td>\n",
              "    </tr>\n",
              "    <tr>\n",
              "      <th>11</th>\n",
              "      <td>White</td>\n",
              "      <td>Liberty County Sheriff's Office</td>\n",
              "      <td>Domestic Disturbance</td>\n",
              "    </tr>\n",
              "    <tr>\n",
              "      <th>...</th>\n",
              "      <td>...</td>\n",
              "      <td>...</td>\n",
              "      <td>...</td>\n",
              "    </tr>\n",
              "    <tr>\n",
              "      <th>10335</th>\n",
              "      <td>Unknown race</td>\n",
              "      <td>Redwood City Police Department</td>\n",
              "      <td>Part 1 Violent Crime</td>\n",
              "    </tr>\n",
              "    <tr>\n",
              "      <th>10337</th>\n",
              "      <td>White</td>\n",
              "      <td>Jacksonville Police Department</td>\n",
              "      <td>Part 1 Violent Crime</td>\n",
              "    </tr>\n",
              "    <tr>\n",
              "      <th>10338</th>\n",
              "      <td>Native American</td>\n",
              "      <td>\"Bemidji Police Department\",\"Beltrami County S...</td>\n",
              "      <td>Traffic Stop</td>\n",
              "    </tr>\n",
              "    <tr>\n",
              "      <th>10340</th>\n",
              "      <td>White</td>\n",
              "      <td>Santa Fe Police Department</td>\n",
              "      <td>Other Non-Violent Offense</td>\n",
              "    </tr>\n",
              "    <tr>\n",
              "      <th>10344</th>\n",
              "      <td>White</td>\n",
              "      <td>Fairfax County Police Department</td>\n",
              "      <td>Person with a Weapon</td>\n",
              "    </tr>\n",
              "  </tbody>\n",
              "</table>\n",
              "<p>5821 rows × 3 columns</p>\n",
              "</div>\n",
              "      <button class=\"colab-df-convert\" onclick=\"convertToInteractive('df-c2b95673-c76c-4d13-96b3-baf098e2fbbc')\"\n",
              "              title=\"Convert this dataframe to an interactive table.\"\n",
              "              style=\"display:none;\">\n",
              "        \n",
              "  <svg xmlns=\"http://www.w3.org/2000/svg\" height=\"24px\"viewBox=\"0 0 24 24\"\n",
              "       width=\"24px\">\n",
              "    <path d=\"M0 0h24v24H0V0z\" fill=\"none\"/>\n",
              "    <path d=\"M18.56 5.44l.94 2.06.94-2.06 2.06-.94-2.06-.94-.94-2.06-.94 2.06-2.06.94zm-11 1L8.5 8.5l.94-2.06 2.06-.94-2.06-.94L8.5 2.5l-.94 2.06-2.06.94zm10 10l.94 2.06.94-2.06 2.06-.94-2.06-.94-.94-2.06-.94 2.06-2.06.94z\"/><path d=\"M17.41 7.96l-1.37-1.37c-.4-.4-.92-.59-1.43-.59-.52 0-1.04.2-1.43.59L10.3 9.45l-7.72 7.72c-.78.78-.78 2.05 0 2.83L4 21.41c.39.39.9.59 1.41.59.51 0 1.02-.2 1.41-.59l7.78-7.78 2.81-2.81c.8-.78.8-2.07 0-2.86zM5.41 20L4 18.59l7.72-7.72 1.47 1.35L5.41 20z\"/>\n",
              "  </svg>\n",
              "      </button>\n",
              "      \n",
              "  <style>\n",
              "    .colab-df-container {\n",
              "      display:flex;\n",
              "      flex-wrap:wrap;\n",
              "      gap: 12px;\n",
              "    }\n",
              "\n",
              "    .colab-df-convert {\n",
              "      background-color: #E8F0FE;\n",
              "      border: none;\n",
              "      border-radius: 50%;\n",
              "      cursor: pointer;\n",
              "      display: none;\n",
              "      fill: #1967D2;\n",
              "      height: 32px;\n",
              "      padding: 0 0 0 0;\n",
              "      width: 32px;\n",
              "    }\n",
              "\n",
              "    .colab-df-convert:hover {\n",
              "      background-color: #E2EBFA;\n",
              "      box-shadow: 0px 1px 2px rgba(60, 64, 67, 0.3), 0px 1px 3px 1px rgba(60, 64, 67, 0.15);\n",
              "      fill: #174EA6;\n",
              "    }\n",
              "\n",
              "    [theme=dark] .colab-df-convert {\n",
              "      background-color: #3B4455;\n",
              "      fill: #D2E3FC;\n",
              "    }\n",
              "\n",
              "    [theme=dark] .colab-df-convert:hover {\n",
              "      background-color: #434B5C;\n",
              "      box-shadow: 0px 1px 3px 1px rgba(0, 0, 0, 0.15);\n",
              "      filter: drop-shadow(0px 1px 2px rgba(0, 0, 0, 0.3));\n",
              "      fill: #FFFFFF;\n",
              "    }\n",
              "  </style>\n",
              "\n",
              "      <script>\n",
              "        const buttonEl =\n",
              "          document.querySelector('#df-c2b95673-c76c-4d13-96b3-baf098e2fbbc button.colab-df-convert');\n",
              "        buttonEl.style.display =\n",
              "          google.colab.kernel.accessAllowed ? 'block' : 'none';\n",
              "\n",
              "        async function convertToInteractive(key) {\n",
              "          const element = document.querySelector('#df-c2b95673-c76c-4d13-96b3-baf098e2fbbc');\n",
              "          const dataTable =\n",
              "            await google.colab.kernel.invokeFunction('convertToInteractive',\n",
              "                                                     [key], {});\n",
              "          if (!dataTable) return;\n",
              "\n",
              "          const docLinkHtml = 'Like what you see? Visit the ' +\n",
              "            '<a target=\"_blank\" href=https://colab.research.google.com/notebooks/data_table.ipynb>data table notebook</a>'\n",
              "            + ' to learn more about interactive tables.';\n",
              "          element.innerHTML = '';\n",
              "          dataTable['output_type'] = 'display_data';\n",
              "          await google.colab.output.renderOutput(dataTable, element);\n",
              "          const docLink = document.createElement('div');\n",
              "          docLink.innerHTML = docLinkHtml;\n",
              "          element.appendChild(docLink);\n",
              "        }\n",
              "      </script>\n",
              "    </div>\n",
              "  </div>\n",
              "  "
            ],
            "text/plain": [
              "                  race                                 agency_responsible  \\\n",
              "1                Black                           Broward Sheriff's Office   \n",
              "3                Black                   Escambia County Sheriff's Office   \n",
              "9                Black                     Bossier City Police Department   \n",
              "10               Black                    Greensboro MD Police Department   \n",
              "11               White                    Liberty County Sheriff's Office   \n",
              "...                ...                                                ...   \n",
              "10335     Unknown race                     Redwood City Police Department   \n",
              "10337            White                     Jacksonville Police Department   \n",
              "10338  Native American  \"Bemidji Police Department\",\"Beltrami County S...   \n",
              "10340            White                         Santa Fe Police Department   \n",
              "10344            White                   Fairfax County Police Department   \n",
              "\n",
              "                    encounter_type  \n",
              "1                     Traffic Stop  \n",
              "3             Part 1 Violent Crime  \n",
              "9             Domestic Disturbance  \n",
              "10     Other Crimes Against People  \n",
              "11            Domestic Disturbance  \n",
              "...                            ...  \n",
              "10335         Part 1 Violent Crime  \n",
              "10337         Part 1 Violent Crime  \n",
              "10338                 Traffic Stop  \n",
              "10340    Other Non-Violent Offense  \n",
              "10344         Person with a Weapon  \n",
              "\n",
              "[5821 rows x 3 columns]"
            ]
          },
          "execution_count": 191,
          "metadata": {},
          "output_type": "execute_result"
        }
      ],
      "source": [
        "data_race_agencies=data_race_agencies.dropna(subset=['encounter_type'])\n",
        "data_race_agencies"
      ]
    },
    {
      "cell_type": "code",
      "execution_count": null,
      "metadata": {
        "colab": {
          "base_uri": "https://localhost:8080/"
        },
        "id": "_JW96JMr2oS5",
        "outputId": "5de50fa4-7376-47f8-cd9b-099b2fce9219"
      },
      "outputs": [
        {
          "name": "stdout",
          "output_type": "stream",
          "text": [
            "Black\n",
            "White\n",
            "Hispanic\n",
            "Unknown race\n",
            "Asian\n",
            "Pacific Islander\n",
            "Native American\n",
            "nan\n"
          ]
        }
      ],
      "source": [
        "races=data_race['race'].unique()\n",
        "for i in races:\n",
        "  print(i)"
      ]
    },
    {
      "cell_type": "code",
      "execution_count": null,
      "metadata": {
        "colab": {
          "base_uri": "https://localhost:8080/",
          "height": 1000
        },
        "id": "oIWXcJgs3T4a",
        "outputId": "2f00ce42-73ef-483a-c92e-bbfc435b7a71"
      },
      "outputs": [
        {
          "data": {
            "text/html": [
              "\n",
              "  <div id=\"df-84251bb4-3c9a-402d-abbc-cfa4f2c2f278\">\n",
              "    <div class=\"colab-df-container\">\n",
              "      <div>\n",
              "<style scoped>\n",
              "    .dataframe tbody tr th:only-of-type {\n",
              "        vertical-align: middle;\n",
              "    }\n",
              "\n",
              "    .dataframe tbody tr th {\n",
              "        vertical-align: top;\n",
              "    }\n",
              "\n",
              "    .dataframe thead th {\n",
              "        text-align: right;\n",
              "    }\n",
              "</style>\n",
              "<table border=\"1\" class=\"dataframe\">\n",
              "  <thead>\n",
              "    <tr style=\"text-align: right;\">\n",
              "      <th></th>\n",
              "      <th>race</th>\n",
              "      <th>encounter_type</th>\n",
              "    </tr>\n",
              "  </thead>\n",
              "  <tbody>\n",
              "    <tr>\n",
              "      <th>239</th>\n",
              "      <td>White</td>\n",
              "      <td>Traffic Stop/Other Non-Violent Offense</td>\n",
              "    </tr>\n",
              "    <tr>\n",
              "      <th>246</th>\n",
              "      <td>White</td>\n",
              "      <td>Traffic Stop/Other Non-Violent Offense</td>\n",
              "    </tr>\n",
              "    <tr>\n",
              "      <th>453</th>\n",
              "      <td>White</td>\n",
              "      <td>Traffic Stop/Other Non-Violent Offense</td>\n",
              "    </tr>\n",
              "    <tr>\n",
              "      <th>490</th>\n",
              "      <td>NaN</td>\n",
              "      <td>Part 1 Violent Crime/Traffic Stop</td>\n",
              "    </tr>\n",
              "    <tr>\n",
              "      <th>528</th>\n",
              "      <td>Black</td>\n",
              "      <td>Traffic Stop/Other Non-Violent Offense</td>\n",
              "    </tr>\n",
              "    <tr>\n",
              "      <th>735</th>\n",
              "      <td>Unknown race</td>\n",
              "      <td>Traffic Stop/Other Non-Violent Offense</td>\n",
              "    </tr>\n",
              "    <tr>\n",
              "      <th>788</th>\n",
              "      <td>White</td>\n",
              "      <td>Traffic Stop/Other Non-Violent Offense</td>\n",
              "    </tr>\n",
              "    <tr>\n",
              "      <th>795</th>\n",
              "      <td>White</td>\n",
              "      <td>Traffic Stop/Other Non-Violent Offense</td>\n",
              "    </tr>\n",
              "    <tr>\n",
              "      <th>875</th>\n",
              "      <td>White</td>\n",
              "      <td>Traffic Stop/Other Non-Violent Offense</td>\n",
              "    </tr>\n",
              "    <tr>\n",
              "      <th>960</th>\n",
              "      <td>Black</td>\n",
              "      <td>Traffic Stop/Other Non-Violent Offense</td>\n",
              "    </tr>\n",
              "    <tr>\n",
              "      <th>1498</th>\n",
              "      <td>Black</td>\n",
              "      <td>Traffic Stop/Other Non-Violent Offense</td>\n",
              "    </tr>\n",
              "    <tr>\n",
              "      <th>1735</th>\n",
              "      <td>White</td>\n",
              "      <td>Traffic Stop/Other Non-Violent Offense</td>\n",
              "    </tr>\n",
              "    <tr>\n",
              "      <th>1894</th>\n",
              "      <td>White</td>\n",
              "      <td>Traffic Stop/Other Non-Violent Offense</td>\n",
              "    </tr>\n",
              "    <tr>\n",
              "      <th>2676</th>\n",
              "      <td>Asian</td>\n",
              "      <td>Traffic Stop/Other Non-Violent Offense</td>\n",
              "    </tr>\n",
              "    <tr>\n",
              "      <th>2713</th>\n",
              "      <td>Black</td>\n",
              "      <td>Traffic Stop/Other Non-Violent Offense</td>\n",
              "    </tr>\n",
              "    <tr>\n",
              "      <th>2752</th>\n",
              "      <td>White</td>\n",
              "      <td>Traffic Stop/Other Non-Violent Offense</td>\n",
              "    </tr>\n",
              "    <tr>\n",
              "      <th>2928</th>\n",
              "      <td>Black</td>\n",
              "      <td>Traffic Stop/Other Non-Violent Offense</td>\n",
              "    </tr>\n",
              "    <tr>\n",
              "      <th>3075</th>\n",
              "      <td>White</td>\n",
              "      <td>Traffic Stop/Other Non-Violent Offense</td>\n",
              "    </tr>\n",
              "    <tr>\n",
              "      <th>3136</th>\n",
              "      <td>Unknown race</td>\n",
              "      <td>Traffic Stop/Other Non-Violent Offense</td>\n",
              "    </tr>\n",
              "    <tr>\n",
              "      <th>3242</th>\n",
              "      <td>White</td>\n",
              "      <td>Traffic Stop/Other Non-Violent Offense</td>\n",
              "    </tr>\n",
              "    <tr>\n",
              "      <th>3488</th>\n",
              "      <td>White</td>\n",
              "      <td>Traffic Stop/Other Non-Violent Offense</td>\n",
              "    </tr>\n",
              "    <tr>\n",
              "      <th>3570</th>\n",
              "      <td>Black</td>\n",
              "      <td>Part 1 Violent Crime/Traffic Stop</td>\n",
              "    </tr>\n",
              "    <tr>\n",
              "      <th>3913</th>\n",
              "      <td>White</td>\n",
              "      <td>Traffic Stop/Other Non-Violent Offense</td>\n",
              "    </tr>\n",
              "    <tr>\n",
              "      <th>3936</th>\n",
              "      <td>White</td>\n",
              "      <td>Traffic Stop/Other Non-Violent Offense</td>\n",
              "    </tr>\n",
              "    <tr>\n",
              "      <th>4808</th>\n",
              "      <td>White</td>\n",
              "      <td>Traffic Stop/Other Non-Violent Offense</td>\n",
              "    </tr>\n",
              "    <tr>\n",
              "      <th>4819</th>\n",
              "      <td>White</td>\n",
              "      <td>Traffic Stop/Other Non-Violent Offense</td>\n",
              "    </tr>\n",
              "    <tr>\n",
              "      <th>4938</th>\n",
              "      <td>White</td>\n",
              "      <td>Traffic Stop/Other Non-Violent Offense</td>\n",
              "    </tr>\n",
              "    <tr>\n",
              "      <th>5183</th>\n",
              "      <td>Hispanic</td>\n",
              "      <td>Part 1 Violent Crime/Traffic Stop</td>\n",
              "    </tr>\n",
              "    <tr>\n",
              "      <th>5553</th>\n",
              "      <td>Unknown race</td>\n",
              "      <td>Traffic Stop/Other Non-Violent Offense</td>\n",
              "    </tr>\n",
              "    <tr>\n",
              "      <th>5575</th>\n",
              "      <td>White</td>\n",
              "      <td>Traffic Stop/Other Non-Violent Offense</td>\n",
              "    </tr>\n",
              "    <tr>\n",
              "      <th>5605</th>\n",
              "      <td>Black</td>\n",
              "      <td>Traffic Stop/Other Non-Violent Offense</td>\n",
              "    </tr>\n",
              "    <tr>\n",
              "      <th>6071</th>\n",
              "      <td>Black</td>\n",
              "      <td>Part 1 Violent Crime/Traffic Stop</td>\n",
              "    </tr>\n",
              "    <tr>\n",
              "      <th>6294</th>\n",
              "      <td>White</td>\n",
              "      <td>Traffic Stop/Other Non-Violent Offense</td>\n",
              "    </tr>\n",
              "    <tr>\n",
              "      <th>6665</th>\n",
              "      <td>White</td>\n",
              "      <td>Traffic Stop/Other Non-Violent Offense</td>\n",
              "    </tr>\n",
              "    <tr>\n",
              "      <th>6735</th>\n",
              "      <td>Hispanic</td>\n",
              "      <td>Traffic Stop/Other Non-Violent Offense</td>\n",
              "    </tr>\n",
              "    <tr>\n",
              "      <th>7146</th>\n",
              "      <td>White</td>\n",
              "      <td>Traffic Stop/Other Non-Violent Offense</td>\n",
              "    </tr>\n",
              "    <tr>\n",
              "      <th>7220</th>\n",
              "      <td>Black</td>\n",
              "      <td>Traffic Stop/Other Non-Violent Offense</td>\n",
              "    </tr>\n",
              "    <tr>\n",
              "      <th>7860</th>\n",
              "      <td>Black</td>\n",
              "      <td>Traffic Stop/Other Non-Violent Offense</td>\n",
              "    </tr>\n",
              "    <tr>\n",
              "      <th>7993</th>\n",
              "      <td>White</td>\n",
              "      <td>Traffic Stop/Other Non-Violent Offense</td>\n",
              "    </tr>\n",
              "    <tr>\n",
              "      <th>8004</th>\n",
              "      <td>Hispanic</td>\n",
              "      <td>Traffic Stop/Other Non-Violent Offense</td>\n",
              "    </tr>\n",
              "    <tr>\n",
              "      <th>8063</th>\n",
              "      <td>White</td>\n",
              "      <td>Traffic Stop/Other Non-Violent Offense</td>\n",
              "    </tr>\n",
              "    <tr>\n",
              "      <th>8289</th>\n",
              "      <td>Black</td>\n",
              "      <td>Traffic Stop/Other Non-Violent Offense</td>\n",
              "    </tr>\n",
              "    <tr>\n",
              "      <th>8295</th>\n",
              "      <td>Hispanic</td>\n",
              "      <td>Part 1 Violent Crime/Traffic Stop</td>\n",
              "    </tr>\n",
              "    <tr>\n",
              "      <th>8307</th>\n",
              "      <td>White</td>\n",
              "      <td>Traffic Stop/Other Non-Violent Offense</td>\n",
              "    </tr>\n",
              "    <tr>\n",
              "      <th>8400</th>\n",
              "      <td>Unknown race</td>\n",
              "      <td>Traffic Stop/Other Non-Violent Offense</td>\n",
              "    </tr>\n",
              "    <tr>\n",
              "      <th>8829</th>\n",
              "      <td>Black</td>\n",
              "      <td>Traffic Stop/Other Non-Violent Offense</td>\n",
              "    </tr>\n",
              "    <tr>\n",
              "      <th>8931</th>\n",
              "      <td>Black</td>\n",
              "      <td>Part 1 Violent Crime/Traffic Stop</td>\n",
              "    </tr>\n",
              "    <tr>\n",
              "      <th>8943</th>\n",
              "      <td>Unknown race</td>\n",
              "      <td>Traffic Stop/Other Non-Violent Offense</td>\n",
              "    </tr>\n",
              "    <tr>\n",
              "      <th>9025</th>\n",
              "      <td>Unknown race</td>\n",
              "      <td>Traffic Stop/Other Non-Violent Offense</td>\n",
              "    </tr>\n",
              "    <tr>\n",
              "      <th>9253</th>\n",
              "      <td>Black</td>\n",
              "      <td>Part 1 Violent Crime/Traffic Stop</td>\n",
              "    </tr>\n",
              "    <tr>\n",
              "      <th>9287</th>\n",
              "      <td>Black</td>\n",
              "      <td>Traffic Stop/Other Non-Violent Offense</td>\n",
              "    </tr>\n",
              "    <tr>\n",
              "      <th>9345</th>\n",
              "      <td>Black</td>\n",
              "      <td>Part 1 Violent Crime/Traffic Stop</td>\n",
              "    </tr>\n",
              "    <tr>\n",
              "      <th>9551</th>\n",
              "      <td>Black</td>\n",
              "      <td>Traffic Stop/Other Non-Violent Offense</td>\n",
              "    </tr>\n",
              "    <tr>\n",
              "      <th>9741</th>\n",
              "      <td>White</td>\n",
              "      <td>Traffic Stop/Other Non-Violent Offense</td>\n",
              "    </tr>\n",
              "    <tr>\n",
              "      <th>9921</th>\n",
              "      <td>Unknown race</td>\n",
              "      <td>Part 1 Violent Crime/Traffic Stop</td>\n",
              "    </tr>\n",
              "    <tr>\n",
              "      <th>10016</th>\n",
              "      <td>Black</td>\n",
              "      <td>Traffic Stop/Other Non-Violent Offense</td>\n",
              "    </tr>\n",
              "    <tr>\n",
              "      <th>10147</th>\n",
              "      <td>Unknown race</td>\n",
              "      <td>Traffic Stop/Other Non-Violent Offense</td>\n",
              "    </tr>\n",
              "    <tr>\n",
              "      <th>10278</th>\n",
              "      <td>White</td>\n",
              "      <td>Traffic Stop/Other Non-Violent Offense</td>\n",
              "    </tr>\n",
              "  </tbody>\n",
              "</table>\n",
              "</div>\n",
              "      <button class=\"colab-df-convert\" onclick=\"convertToInteractive('df-84251bb4-3c9a-402d-abbc-cfa4f2c2f278')\"\n",
              "              title=\"Convert this dataframe to an interactive table.\"\n",
              "              style=\"display:none;\">\n",
              "        \n",
              "  <svg xmlns=\"http://www.w3.org/2000/svg\" height=\"24px\"viewBox=\"0 0 24 24\"\n",
              "       width=\"24px\">\n",
              "    <path d=\"M0 0h24v24H0V0z\" fill=\"none\"/>\n",
              "    <path d=\"M18.56 5.44l.94 2.06.94-2.06 2.06-.94-2.06-.94-.94-2.06-.94 2.06-2.06.94zm-11 1L8.5 8.5l.94-2.06 2.06-.94-2.06-.94L8.5 2.5l-.94 2.06-2.06.94zm10 10l.94 2.06.94-2.06 2.06-.94-2.06-.94-.94-2.06-.94 2.06-2.06.94z\"/><path d=\"M17.41 7.96l-1.37-1.37c-.4-.4-.92-.59-1.43-.59-.52 0-1.04.2-1.43.59L10.3 9.45l-7.72 7.72c-.78.78-.78 2.05 0 2.83L4 21.41c.39.39.9.59 1.41.59.51 0 1.02-.2 1.41-.59l7.78-7.78 2.81-2.81c.8-.78.8-2.07 0-2.86zM5.41 20L4 18.59l7.72-7.72 1.47 1.35L5.41 20z\"/>\n",
              "  </svg>\n",
              "      </button>\n",
              "      \n",
              "  <style>\n",
              "    .colab-df-container {\n",
              "      display:flex;\n",
              "      flex-wrap:wrap;\n",
              "      gap: 12px;\n",
              "    }\n",
              "\n",
              "    .colab-df-convert {\n",
              "      background-color: #E8F0FE;\n",
              "      border: none;\n",
              "      border-radius: 50%;\n",
              "      cursor: pointer;\n",
              "      display: none;\n",
              "      fill: #1967D2;\n",
              "      height: 32px;\n",
              "      padding: 0 0 0 0;\n",
              "      width: 32px;\n",
              "    }\n",
              "\n",
              "    .colab-df-convert:hover {\n",
              "      background-color: #E2EBFA;\n",
              "      box-shadow: 0px 1px 2px rgba(60, 64, 67, 0.3), 0px 1px 3px 1px rgba(60, 64, 67, 0.15);\n",
              "      fill: #174EA6;\n",
              "    }\n",
              "\n",
              "    [theme=dark] .colab-df-convert {\n",
              "      background-color: #3B4455;\n",
              "      fill: #D2E3FC;\n",
              "    }\n",
              "\n",
              "    [theme=dark] .colab-df-convert:hover {\n",
              "      background-color: #434B5C;\n",
              "      box-shadow: 0px 1px 3px 1px rgba(0, 0, 0, 0.15);\n",
              "      filter: drop-shadow(0px 1px 2px rgba(0, 0, 0, 0.3));\n",
              "      fill: #FFFFFF;\n",
              "    }\n",
              "  </style>\n",
              "\n",
              "      <script>\n",
              "        const buttonEl =\n",
              "          document.querySelector('#df-84251bb4-3c9a-402d-abbc-cfa4f2c2f278 button.colab-df-convert');\n",
              "        buttonEl.style.display =\n",
              "          google.colab.kernel.accessAllowed ? 'block' : 'none';\n",
              "\n",
              "        async function convertToInteractive(key) {\n",
              "          const element = document.querySelector('#df-84251bb4-3c9a-402d-abbc-cfa4f2c2f278');\n",
              "          const dataTable =\n",
              "            await google.colab.kernel.invokeFunction('convertToInteractive',\n",
              "                                                     [key], {});\n",
              "          if (!dataTable) return;\n",
              "\n",
              "          const docLinkHtml = 'Like what you see? Visit the ' +\n",
              "            '<a target=\"_blank\" href=https://colab.research.google.com/notebooks/data_table.ipynb>data table notebook</a>'\n",
              "            + ' to learn more about interactive tables.';\n",
              "          element.innerHTML = '';\n",
              "          dataTable['output_type'] = 'display_data';\n",
              "          await google.colab.output.renderOutput(dataTable, element);\n",
              "          const docLink = document.createElement('div');\n",
              "          docLink.innerHTML = docLinkHtml;\n",
              "          element.appendChild(docLink);\n",
              "        }\n",
              "      </script>\n",
              "    </div>\n",
              "  </div>\n",
              "  "
            ],
            "text/plain": [
              "               race                          encounter_type\n",
              "239           White  Traffic Stop/Other Non-Violent Offense\n",
              "246           White  Traffic Stop/Other Non-Violent Offense\n",
              "453           White  Traffic Stop/Other Non-Violent Offense\n",
              "490             NaN       Part 1 Violent Crime/Traffic Stop\n",
              "528           Black  Traffic Stop/Other Non-Violent Offense\n",
              "735    Unknown race  Traffic Stop/Other Non-Violent Offense\n",
              "788           White  Traffic Stop/Other Non-Violent Offense\n",
              "795           White  Traffic Stop/Other Non-Violent Offense\n",
              "875           White  Traffic Stop/Other Non-Violent Offense\n",
              "960           Black  Traffic Stop/Other Non-Violent Offense\n",
              "1498          Black  Traffic Stop/Other Non-Violent Offense\n",
              "1735          White  Traffic Stop/Other Non-Violent Offense\n",
              "1894          White  Traffic Stop/Other Non-Violent Offense\n",
              "2676          Asian  Traffic Stop/Other Non-Violent Offense\n",
              "2713          Black  Traffic Stop/Other Non-Violent Offense\n",
              "2752          White  Traffic Stop/Other Non-Violent Offense\n",
              "2928          Black  Traffic Stop/Other Non-Violent Offense\n",
              "3075          White  Traffic Stop/Other Non-Violent Offense\n",
              "3136   Unknown race  Traffic Stop/Other Non-Violent Offense\n",
              "3242          White  Traffic Stop/Other Non-Violent Offense\n",
              "3488          White  Traffic Stop/Other Non-Violent Offense\n",
              "3570          Black       Part 1 Violent Crime/Traffic Stop\n",
              "3913          White  Traffic Stop/Other Non-Violent Offense\n",
              "3936          White  Traffic Stop/Other Non-Violent Offense\n",
              "4808          White  Traffic Stop/Other Non-Violent Offense\n",
              "4819          White  Traffic Stop/Other Non-Violent Offense\n",
              "4938          White  Traffic Stop/Other Non-Violent Offense\n",
              "5183       Hispanic       Part 1 Violent Crime/Traffic Stop\n",
              "5553   Unknown race  Traffic Stop/Other Non-Violent Offense\n",
              "5575          White  Traffic Stop/Other Non-Violent Offense\n",
              "5605          Black  Traffic Stop/Other Non-Violent Offense\n",
              "6071          Black       Part 1 Violent Crime/Traffic Stop\n",
              "6294          White  Traffic Stop/Other Non-Violent Offense\n",
              "6665          White  Traffic Stop/Other Non-Violent Offense\n",
              "6735       Hispanic  Traffic Stop/Other Non-Violent Offense\n",
              "7146          White  Traffic Stop/Other Non-Violent Offense\n",
              "7220          Black  Traffic Stop/Other Non-Violent Offense\n",
              "7860          Black  Traffic Stop/Other Non-Violent Offense\n",
              "7993          White  Traffic Stop/Other Non-Violent Offense\n",
              "8004       Hispanic  Traffic Stop/Other Non-Violent Offense\n",
              "8063          White  Traffic Stop/Other Non-Violent Offense\n",
              "8289          Black  Traffic Stop/Other Non-Violent Offense\n",
              "8295       Hispanic       Part 1 Violent Crime/Traffic Stop\n",
              "8307          White  Traffic Stop/Other Non-Violent Offense\n",
              "8400   Unknown race  Traffic Stop/Other Non-Violent Offense\n",
              "8829          Black  Traffic Stop/Other Non-Violent Offense\n",
              "8931          Black       Part 1 Violent Crime/Traffic Stop\n",
              "8943   Unknown race  Traffic Stop/Other Non-Violent Offense\n",
              "9025   Unknown race  Traffic Stop/Other Non-Violent Offense\n",
              "9253          Black       Part 1 Violent Crime/Traffic Stop\n",
              "9287          Black  Traffic Stop/Other Non-Violent Offense\n",
              "9345          Black       Part 1 Violent Crime/Traffic Stop\n",
              "9551          Black  Traffic Stop/Other Non-Violent Offense\n",
              "9741          White  Traffic Stop/Other Non-Violent Offense\n",
              "9921   Unknown race       Part 1 Violent Crime/Traffic Stop\n",
              "10016         Black  Traffic Stop/Other Non-Violent Offense\n",
              "10147  Unknown race  Traffic Stop/Other Non-Violent Offense\n",
              "10278         White  Traffic Stop/Other Non-Violent Offense"
            ]
          },
          "execution_count": 187,
          "metadata": {},
          "output_type": "execute_result"
        }
      ],
      "source": [
        "data_race.loc[data_race['encounter_type']. isin([ 'Traffic Stop/Other Non-Violent Offense','Part 1 Violent Crime/Traffic Stop'])]"
      ]
    },
    {
      "cell_type": "code",
      "execution_count": null,
      "metadata": {
        "colab": {
          "base_uri": "https://localhost:8080/"
        },
        "id": "lR7DsMIZ4f6d",
        "outputId": "5d7fe4ef-6628-4e74-fea9-5e31b75af8cb"
      },
      "outputs": [
        {
          "name": "stdout",
          "output_type": "stream",
          "text": [
            "               race  incident_counts\n",
            "0  Pacific Islander               43\n",
            "1             Asian               67\n",
            "2   Native American               88\n",
            "3      Unknown race              708\n",
            "4          Hispanic             1059\n",
            "5             Black             1381\n",
            "6             White             2416\n"
          ]
        }
      ],
      "source": [
        "race_wise_icidents=data_race['race'].value_counts(ascending=True).rename_axis('race').reset_index(name='incident_counts')\n",
        "print(race_wise_icidents)"
      ]
    },
    {
      "cell_type": "code",
      "execution_count": null,
      "metadata": {
        "colab": {
          "base_uri": "https://localhost:8080/",
          "height": 560
        },
        "id": "22fsDEF05Fi1",
        "outputId": "a91a5bf6-26ee-4f6f-e900-a4aa8c2f4259"
      },
      "outputs": [
        {
          "data": {
            "image/png": "[encoded data removed]",
            "text/plain": [
              "<Figure size 1000x500 with 1 Axes>"
            ]
          },
          "metadata": {},
          "output_type": "display_data"
        }
      ],
      "source": [
        "fig = plt.figure()\n",
        "ax = fig.add_axes([0,0,1,1])\n",
        "race = race_wise_icidents['race']\n",
        "incident_counts = race_wise_icidents['incident_counts']\n",
        "ax.bar(race,incident_counts)\n",
        "plt.show()"
      ]
    },
    {
      "cell_type": "code",
      "execution_count": null,
      "metadata": {
        "colab": {
          "background_save": true
        },
        "id": "7YvNa9g-9hx5"
      },
      "outputs": [],
      "source": [
        "agency_responsible=data_race[''].unique()\n",
        "for i in races:\n",
        "  print(i)"
      ]
    }
  ],
  "metadata": {
    "colab": {
      "provenance": [],
      "toc_visible": true,
      "authorship_tag": "ABX9TyO+jH0cgcu9KVQa52dDF+yE",
      "include_colab_link": true
    },
    "kernelspec": {
      "display_name": "Python 3",
      "name": "python3"
    },
    "language_info": {
      "name": "python"
    }
  },
  "nbformat": 4,
  "nbformat_minor": 0
}